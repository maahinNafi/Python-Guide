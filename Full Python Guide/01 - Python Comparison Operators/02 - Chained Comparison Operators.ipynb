{
 "cells": [
  {
   "cell_type": "markdown",
   "id": "917b9852-109b-47d7-a98f-d23c7ea29b95",
   "metadata": {},
   "source": [
    "# Chained Comparison Operators\n",
    "An interesting feature of Python is the ability to chain multiple comparisons to perform a more complex test. You can use these chained comparisons as shorthand for larger Boolean Expressions."
   ]
  },
  {
   "cell_type": "markdown",
   "id": "14af7427-4a7d-48e7-bffc-f8281b8013cc",
   "metadata": {},
   "source": [
    "Few examples of using chains:"
   ]
  },
  {
   "cell_type": "code",
   "execution_count": 3,
   "id": "80aaccb1-7c2b-46ca-882c-51de8106d4ab",
   "metadata": {},
   "outputs": [
    {
     "data": {
      "text/plain": [
       "True"
      ]
     },
     "execution_count": 3,
     "metadata": {},
     "output_type": "execute_result"
    }
   ],
   "source": [
    "1 < 2 < 3"
   ]
  },
  {
   "cell_type": "markdown",
   "id": "eca12868-4088-4780-8aee-1d7533166811",
   "metadata": {},
   "source": [
    "The above statement checks if 1 was less than 2 and if 2 was less than 3. We could have written this using an and statement in Python:"
   ]
  },
  {
   "cell_type": "code",
   "execution_count": 8,
   "id": "7fe86e6e-2ac6-4284-8aa8-9f16650e3b49",
   "metadata": {},
   "outputs": [
    {
     "data": {
      "text/plain": [
       "True"
      ]
     },
     "execution_count": 8,
     "metadata": {},
     "output_type": "execute_result"
    }
   ],
   "source": [
    "1<2 and 2<3"
   ]
  },
  {
   "cell_type": "markdown",
   "id": "413d33b6-264c-4883-bb5b-ad8c5c6185fa",
   "metadata": {},
   "source": [
    "The and is used to make sure two checks have to be true in order for the total check to be true."
   ]
  },
  {
   "cell_type": "code",
   "execution_count": 11,
   "id": "f6c59de2-4f96-4e94-bf8e-49b0eece577d",
   "metadata": {},
   "outputs": [
    {
     "data": {
      "text/plain": [
       "True"
      ]
     },
     "execution_count": 11,
     "metadata": {},
     "output_type": "execute_result"
    }
   ],
   "source": [
    "1 < 3 > 2"
   ]
  },
  {
   "cell_type": "markdown",
   "id": "8157f3cc-36f8-4a4b-8bb2-5fb33eee2030",
   "metadata": {},
   "source": [
    "The above checks if 3 is larger than both of the other numbers, so you could use and to rewrite it as:"
   ]
  },
  {
   "cell_type": "code",
   "execution_count": 14,
   "id": "be5f3642-dc50-4d22-89cd-d8e4821ea4ee",
   "metadata": {},
   "outputs": [
    {
     "data": {
      "text/plain": [
       "True"
      ]
     },
     "execution_count": 14,
     "metadata": {},
     "output_type": "execute_result"
    }
   ],
   "source": [
    "1<3 and 3>2"
   ]
  },
  {
   "cell_type": "markdown",
   "id": "fd4c4250-436a-4409-9241-d38f19639134",
   "metadata": {},
   "source": [
    "It's important to note that Python is checking both instances of the comparisons. We can also use or to write comparisons in Python."
   ]
  },
  {
   "cell_type": "code",
   "execution_count": 17,
   "id": "794baba9-afcc-492f-ac3c-0627f8b5775e",
   "metadata": {},
   "outputs": [
    {
     "data": {
      "text/plain": [
       "True"
      ]
     },
     "execution_count": 17,
     "metadata": {},
     "output_type": "execute_result"
    }
   ],
   "source": [
    "1==2 or 2<3"
   ]
  },
  {
   "cell_type": "markdown",
   "id": "2fa77ea5-1ef4-4db7-96fc-4583b1d2e7d7",
   "metadata": {},
   "source": [
    "Note how it was true; this is because with the or operator, we only need one or the other to be true."
   ]
  },
  {
   "cell_type": "code",
   "execution_count": 22,
   "id": "87a65b7e-9ed0-4fe2-8173-567d8338c450",
   "metadata": {},
   "outputs": [
    {
     "data": {
      "text/plain": [
       "True"
      ]
     },
     "execution_count": 22,
     "metadata": {},
     "output_type": "execute_result"
    }
   ],
   "source": [
    "1==1 or 100==1"
   ]
  }
 ],
 "metadata": {
  "kernelspec": {
   "display_name": "Python 3 (ipykernel)",
   "language": "python",
   "name": "python3"
  },
  "language_info": {
   "codemirror_mode": {
    "name": "ipython",
    "version": 3
   },
   "file_extension": ".py",
   "mimetype": "text/x-python",
   "name": "python",
   "nbconvert_exporter": "python",
   "pygments_lexer": "ipython3",
   "version": "3.11.7"
  }
 },
 "nbformat": 4,
 "nbformat_minor": 5
}

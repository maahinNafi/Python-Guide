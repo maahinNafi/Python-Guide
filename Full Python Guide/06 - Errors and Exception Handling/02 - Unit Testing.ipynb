{
 "cells": [
  {
   "cell_type": "markdown",
   "id": "9729664d-2970-44e4-ad58-0f6885fd984e",
   "metadata": {},
   "source": [
    "# Unit Testing\n",
    "Equally important as writing good code is writing good tests. Better to find bugs yourself than have them reported to you by end users!\n",
    "Recall that with some IPython magic we can write the contents of a cell to a file using %%writefile.\n",
    "You can run terminal commands from a jupyter cell using !"
   ]
  },
  {
   "cell_type": "markdown",
   "id": "f7700107-756c-4447-a9e7-550f02f07a16",
   "metadata": {},
   "source": [
    "## Testing tools\n",
    "There are simple tools that merely look at your code, and they'll tell you if there are style issues or simple problems like variable names being called before assignment. Such as:\n",
    "* pylint\n",
    "* pyflakes\n",
    "* pep8\n",
    "\n",
    "A far better way to test your code is to write tests that send sample data to your program, and compare what's returned to a desired outcome.\n",
    "Two such tools are available from the standard library:\n",
    "* unittest\n",
    "* doctest"
   ]
  },
  {
   "cell_type": "markdown",
   "id": "7c5b553a-2cda-4558-862f-656850a3cf5e",
   "metadata": {},
   "source": [
    "## pylint\n",
    "pylint tests for style as well as some very basic program logic.\n",
    "First you should install pylint."
   ]
  },
  {
   "cell_type": "code",
   "execution_count": 5,
   "id": "fd51e43f-0af9-4c4f-810f-4ba65dbcf8f7",
   "metadata": {},
   "outputs": [
    {
     "name": "stdout",
     "output_type": "stream",
     "text": [
      "Requirement already satisfied: pylint in /opt/anaconda3/lib/python3.11/site-packages (2.16.2)\n",
      "Requirement already satisfied: platformdirs>=2.2.0 in /opt/anaconda3/lib/python3.11/site-packages (from pylint) (3.10.0)\n",
      "Requirement already satisfied: astroid<=2.16.0-dev0,>=2.14.2 in /opt/anaconda3/lib/python3.11/site-packages (from pylint) (2.14.2)\n",
      "Requirement already satisfied: isort<6,>=4.2.5 in /opt/anaconda3/lib/python3.11/site-packages (from pylint) (5.9.3)\n",
      "Requirement already satisfied: mccabe<0.8,>=0.6 in /opt/anaconda3/lib/python3.11/site-packages (from pylint) (0.7.0)\n",
      "Requirement already satisfied: tomlkit>=0.10.1 in /opt/anaconda3/lib/python3.11/site-packages (from pylint) (0.11.1)\n",
      "Requirement already satisfied: dill>=0.3.6 in /opt/anaconda3/lib/python3.11/site-packages (from pylint) (0.3.7)\n",
      "Requirement already satisfied: lazy-object-proxy>=1.4.0 in /opt/anaconda3/lib/python3.11/site-packages (from astroid<=2.16.0-dev0,>=2.14.2->pylint) (1.6.0)\n",
      "Requirement already satisfied: wrapt<2,>=1.14 in /opt/anaconda3/lib/python3.11/site-packages (from astroid<=2.16.0-dev0,>=2.14.2->pylint) (1.14.1)\n"
     ]
    }
   ],
   "source": [
    "! pip install pylint"
   ]
  },
  {
   "cell_type": "markdown",
   "id": "d4d2f6e6-bd29-4e3d-b7b8-427f4426ef09",
   "metadata": {},
   "source": [
    "Let's save a very simple script:"
   ]
  },
  {
   "cell_type": "code",
   "execution_count": 10,
   "id": "a65ecf77-41a2-4605-b5ec-024394ade111",
   "metadata": {},
   "outputs": [
    {
     "name": "stdout",
     "output_type": "stream",
     "text": [
      "Writing simple1.py\n"
     ]
    }
   ],
   "source": [
    "%%writefile simple1.py\n",
    "a = 1\n",
    "b = 2\n",
    "print(a)\n",
    "print(B)"
   ]
  },
  {
   "cell_type": "markdown",
   "id": "ea839986-4c8a-4cb6-953b-f2bb0dd3b648",
   "metadata": {},
   "source": [
    "Now let's check it using pylint"
   ]
  },
  {
   "cell_type": "code",
   "execution_count": 13,
   "id": "c2150243-03eb-432e-a69a-e25fb7fa25ca",
   "metadata": {},
   "outputs": [
    {
     "name": "stdout",
     "output_type": "stream",
     "text": [
      "************* Module simple1\n",
      "simple1.py:1:0: C0114: Missing module docstring (missing-module-docstring)\n",
      "simple1.py:1:0: C0103: Constant name \"a\" doesn't conform to UPPER_CASE naming style (invalid-name)\n",
      "simple1.py:2:0: C0103: Constant name \"b\" doesn't conform to UPPER_CASE naming style (invalid-name)\n",
      "simple1.py:4:6: E0602: Undefined variable 'B' (undefined-variable)\n",
      "\n",
      "-----------------------------------\n",
      "Your code has been rated at 0.00/10\n",
      "\n",
      "\u001b[0m"
     ]
    }
   ],
   "source": [
    "! pylint simple1.py"
   ]
  },
  {
   "cell_type": "code",
   "execution_count": 15,
   "id": "38f8006a-314f-4dc4-8ad1-443987d3d2de",
   "metadata": {},
   "outputs": [
    {
     "name": "stdout",
     "output_type": "stream",
     "text": [
      "************* Module simple1\n",
      "simple1.py:1:0: C0114: Missing module docstring (missing-module-docstring)\n",
      "simple1.py:1:0: C0103: Constant name \"a\" doesn't conform to UPPER_CASE naming style (invalid-name)\n",
      "simple1.py:2:0: C0103: Constant name \"b\" doesn't conform to UPPER_CASE naming style (invalid-name)\n",
      "simple1.py:4:6: E0602: Undefined variable 'B' (undefined-variable)\n",
      "\n",
      "\n",
      "Report\n",
      "======\n",
      "4 statements analysed.\n",
      "\n",
      "Statistics by type\n",
      "------------------\n",
      "\n",
      "+---------+-------+-----------+-----------+------------+---------+\n",
      "|type     |number |old number |difference |%documented |%badname |\n",
      "+=========+=======+===========+===========+============+=========+\n",
      "|module   |1      |1          |=          |0.00        |0.00     |\n",
      "+---------+-------+-----------+-----------+------------+---------+\n",
      "|class    |0      |NC         |NC         |0           |0        |\n",
      "+---------+-------+-----------+-----------+------------+---------+\n",
      "|method   |0      |NC         |NC         |0           |0        |\n",
      "+---------+-------+-----------+-----------+------------+---------+\n",
      "|function |0      |NC         |NC         |0           |0        |\n",
      "+---------+-------+-----------+-----------+------------+---------+\n",
      "\n",
      "\n",
      "\n",
      "6 lines have been analyzed\n",
      "\n",
      "Raw metrics\n",
      "-----------\n",
      "\n",
      "+----------+-------+------+---------+-----------+\n",
      "|type      |number |%     |previous |difference |\n",
      "+==========+=======+======+=========+===========+\n",
      "|code      |5      |83.33 |NC       |NC         |\n",
      "+----------+-------+------+---------+-----------+\n",
      "|docstring |0      |0.00  |NC       |NC         |\n",
      "+----------+-------+------+---------+-----------+\n",
      "|comment   |0      |0.00  |NC       |NC         |\n",
      "+----------+-------+------+---------+-----------+\n",
      "|empty     |1      |16.67 |NC       |NC         |\n",
      "+----------+-------+------+---------+-----------+\n",
      "\n",
      "\n",
      "\n",
      "Duplication\n",
      "-----------\n",
      "\n",
      "+-------------------------+------+---------+-----------+\n",
      "|                         |now   |previous |difference |\n",
      "+=========================+======+=========+===========+\n",
      "|nb duplicated lines      |0     |0        |0          |\n",
      "+-------------------------+------+---------+-----------+\n",
      "|percent duplicated lines |0.000 |0.000    |=          |\n",
      "+-------------------------+------+---------+-----------+\n",
      "\n",
      "\n",
      "\n",
      "Messages by category\n",
      "--------------------\n",
      "\n",
      "+-----------+-------+---------+-----------+\n",
      "|type       |number |previous |difference |\n",
      "+===========+=======+=========+===========+\n",
      "|convention |3      |3        |3          |\n",
      "+-----------+-------+---------+-----------+\n",
      "|refactor   |0      |0        |0          |\n",
      "+-----------+-------+---------+-----------+\n",
      "|warning    |0      |0        |0          |\n",
      "+-----------+-------+---------+-----------+\n",
      "|error      |1      |1        |1          |\n",
      "+-----------+-------+---------+-----------+\n",
      "\n",
      "\n",
      "\n",
      "Messages\n",
      "--------\n",
      "\n",
      "+-------------------------+------------+\n",
      "|message id               |occurrences |\n",
      "+=========================+============+\n",
      "|invalid-name             |2           |\n",
      "+-------------------------+------------+\n",
      "|undefined-variable       |1           |\n",
      "+-------------------------+------------+\n",
      "|missing-module-docstring |1           |\n",
      "+-------------------------+------------+\n",
      "\n",
      "\n",
      "\n",
      "\n",
      "------------------------------------------------------------------\n",
      "Your code has been rated at 0.00/10 (previous run: 0.00/10, +0.00)\n",
      "\n",
      "\u001b[0m"
     ]
    }
   ],
   "source": [
    "! pylint simple1.py -r y"
   ]
  },
  {
   "cell_type": "markdown",
   "id": "66f36b7a-a7f3-4767-838c-9e4d608deac4",
   "metadata": {},
   "source": [
    "Pylint first lists some styling issues - it would like to see an extra newline at the end, modules and function definitions should have descriptive docstrings, and single characters are a poor choice for variable names.\n",
    "\n",
    "More importantly, however, pylint identified an error in the program - a variable called before assignment. This needs fixing.\n",
    "So let's improve it."
   ]
  },
  {
   "cell_type": "code",
   "execution_count": 18,
   "id": "2bd61e99-24df-49b7-bee8-0c76379907a2",
   "metadata": {},
   "outputs": [
    {
     "name": "stdout",
     "output_type": "stream",
     "text": [
      "Overwriting simple1.py\n"
     ]
    }
   ],
   "source": [
    "%%writefile simple1.py\n",
    "\"\"\"\n",
    "A very simple script.\n",
    "\"\"\"\n",
    "\n",
    "def myfunc():\n",
    "    \"\"\"\n",
    "    An extremely simple function.\n",
    "    \"\"\"\n",
    "    first = 1\n",
    "    second = 2\n",
    "    print(first)\n",
    "    print(second)\n",
    "\n",
    "myfunc()"
   ]
  },
  {
   "cell_type": "code",
   "execution_count": 22,
   "id": "2a4932d4-04d2-4dd8-ac59-15caa9e08876",
   "metadata": {},
   "outputs": [
    {
     "name": "stdout",
     "output_type": "stream",
     "text": [
      "\n",
      "--------------------------------------------------------------------\n",
      "Your code has been rated at 10.00/10 (previous run: 10.00/10, +0.00)\n",
      "\n",
      "\u001b[0m"
     ]
    }
   ],
   "source": [
    "! pylint simple1.py"
   ]
  },
  {
   "cell_type": "markdown",
   "id": "5dd58e6b-7380-4dcb-baca-2fc20d7c34cc",
   "metadata": {},
   "source": [
    "## unittest\n",
    "unittest lets you write your own test programs. The goal is to send a specific set of data to your program, and analyze the returned results against an expected result."
   ]
  },
  {
   "cell_type": "markdown",
   "id": "2ecea141-5cce-4254-a456-fa1f9035eb5c",
   "metadata": {},
   "source": [
    "Let's generate a simple script that capitalizes words in a given string. We'll call it cap.py."
   ]
  },
  {
   "cell_type": "code",
   "execution_count": 28,
   "id": "212e6b12-bfc2-4184-8aa4-8ea2003d979a",
   "metadata": {},
   "outputs": [
    {
     "name": "stdout",
     "output_type": "stream",
     "text": [
      "Writing cap.py\n"
     ]
    }
   ],
   "source": [
    "%%writefile cap.py\n",
    "def cap_text(text):\n",
    "    return text.capitalize()"
   ]
  },
  {
   "cell_type": "markdown",
   "id": "e98d6b51-3083-4ebc-a6a5-9b07a08a15e5",
   "metadata": {},
   "source": [
    "Now we'll write a test script. We can call it test_cap.py"
   ]
  },
  {
   "cell_type": "code",
   "execution_count": 31,
   "id": "28636893-8b18-4ad5-ab21-40962d6be999",
   "metadata": {},
   "outputs": [
    {
     "name": "stdout",
     "output_type": "stream",
     "text": [
      "Writing test_cap.py\n"
     ]
    }
   ],
   "source": [
    "%%writefile test_cap.py\n",
    "import unittest\n",
    "import cap\n",
    "\n",
    "class TestCap(unittest.TestCase):\n",
    "    \n",
    "    def test_one_word(self):\n",
    "        text = 'python'\n",
    "        result = cap.cap_text(text)\n",
    "        self.assertEqual(result, 'Python')\n",
    "        \n",
    "    def test_multiple_words(self):\n",
    "        text = 'monty python'\n",
    "        result = cap.cap_text(text)\n",
    "        self.assertEqual(result, 'Monty Python')\n",
    "        \n",
    "if __name__ == '__main__':\n",
    "    unittest.main()"
   ]
  },
  {
   "cell_type": "code",
   "execution_count": 33,
   "id": "cfdcae1b-8c5f-4710-ba64-afd5be48c543",
   "metadata": {},
   "outputs": [
    {
     "name": "stdout",
     "output_type": "stream",
     "text": [
      "F.\n",
      "======================================================================\n",
      "FAIL: test_multiple_words (__main__.TestCap.test_multiple_words)\n",
      "----------------------------------------------------------------------\n",
      "Traceback (most recent call last):\n",
      "  File \"/Users/maahinnafi/Desktop/Full Python Guide/06 - Errors and Exception Handling/test_cap.py\", line 14, in test_multiple_words\n",
      "    self.assertEqual(result, 'Monty Python')\n",
      "AssertionError: 'Monty python' != 'Monty Python'\n",
      "- Monty python\n",
      "?       ^\n",
      "+ Monty Python\n",
      "?       ^\n",
      "\n",
      "\n",
      "----------------------------------------------------------------------\n",
      "Ran 2 tests in 0.000s\n",
      "\n",
      "FAILED (failures=1)\n"
     ]
    }
   ],
   "source": [
    "! python test_cap.py"
   ]
  },
  {
   "cell_type": "markdown",
   "id": "a7e15ce8-efee-4b5a-b925-2e8d91bc093f",
   "metadata": {},
   "source": [
    "What happened? It turns out that the .capitalize() method only capitalizes the first letter of the first word in a string. Where .title() will give us the result we want."
   ]
  },
  {
   "cell_type": "code",
   "execution_count": 36,
   "id": "8c431115-1709-4a56-be4e-9afb11bcf39a",
   "metadata": {},
   "outputs": [
    {
     "name": "stdout",
     "output_type": "stream",
     "text": [
      "Overwriting cap.py\n"
     ]
    }
   ],
   "source": [
    "%%writefile cap.py\n",
    "def cap_text(text):\n",
    "    return text.title()  # replace .capitalize() with .title()"
   ]
  },
  {
   "cell_type": "code",
   "execution_count": 38,
   "id": "8e3bcd1c-bb4a-443c-92da-c5e92b2199b2",
   "metadata": {},
   "outputs": [
    {
     "name": "stdout",
     "output_type": "stream",
     "text": [
      "..\n",
      "----------------------------------------------------------------------\n",
      "Ran 2 tests in 0.000s\n",
      "\n",
      "OK\n"
     ]
    }
   ],
   "source": [
    "! python test_cap.py"
   ]
  }
 ],
 "metadata": {
  "kernelspec": {
   "display_name": "Python 3 (ipykernel)",
   "language": "python",
   "name": "python3"
  },
  "language_info": {
   "codemirror_mode": {
    "name": "ipython",
    "version": 3
   },
   "file_extension": ".py",
   "mimetype": "text/x-python",
   "name": "python",
   "nbconvert_exporter": "python",
   "pygments_lexer": "ipython3",
   "version": "3.11.7"
  }
 },
 "nbformat": 4,
 "nbformat_minor": 5
}

{
 "cells": [
  {
   "cell_type": "markdown",
   "id": "387f1773-7666-4d74-b93c-7154c9da2f05",
   "metadata": {},
   "source": [
    "# Special Methods\n",
    "Classes in Python can implement certain operations with special method names. These methods are not actually called directly but by Python specific language syntax."
   ]
  },
  {
   "cell_type": "code",
   "execution_count": 5,
   "id": "2a84eef1-f859-4d7e-b614-5a536cbe5262",
   "metadata": {},
   "outputs": [],
   "source": [
    "class Book:\n",
    "    def __init__(self, title, author, pages):\n",
    "        print(\"A book is created\")\n",
    "        self.title = title\n",
    "        self.author = author\n",
    "        self.pages = pages\n",
    "\n",
    "    def __str__(self):\n",
    "        return \"Title: %s, author: %s, pages: %s\" %(self.title, self.author, self.pages)\n",
    "\n",
    "    def __len__(self):\n",
    "        return self.pages\n",
    "\n",
    "    def __del__(self):\n",
    "        print(\"A book is destroyed\")"
   ]
  },
  {
   "cell_type": "code",
   "execution_count": 7,
   "id": "2dbfa4e2-e192-46e3-abc6-e0d7b5570d34",
   "metadata": {},
   "outputs": [
    {
     "name": "stdout",
     "output_type": "stream",
     "text": [
      "A book is created\n",
      "Title: Python Rocks!, author: Maahin Nafi, pages: 159\n",
      "159\n",
      "A book is destroyed\n"
     ]
    }
   ],
   "source": [
    "book = Book(\"Python Rocks!\", \"Maahin Nafi\", 159)\n",
    "\n",
    "#Special Methods\n",
    "print(book)\n",
    "print(len(book))\n",
    "del book"
   ]
  },
  {
   "cell_type": "markdown",
   "id": "cc8b0801-6c5e-4c92-a615-cdf55c74c0ed",
   "metadata": {},
   "source": [
    "The __init__(), __str__(), __len__() and __del__() methods"
   ]
  },
  {
   "cell_type": "markdown",
   "id": "f017f7ef-346b-4824-844f-2bce100aabbd",
   "metadata": {},
   "source": [
    "These special methods are defined by their use of underscores. They allow us to use Python specific functions on objects created through our class."
   ]
  }
 ],
 "metadata": {
  "kernelspec": {
   "display_name": "Python 3 (ipykernel)",
   "language": "python",
   "name": "python3"
  },
  "language_info": {
   "codemirror_mode": {
    "name": "ipython",
    "version": 3
   },
   "file_extension": ".py",
   "mimetype": "text/x-python",
   "name": "python",
   "nbconvert_exporter": "python",
   "pygments_lexer": "ipython3",
   "version": "3.11.7"
  }
 },
 "nbformat": 4,
 "nbformat_minor": 5
}

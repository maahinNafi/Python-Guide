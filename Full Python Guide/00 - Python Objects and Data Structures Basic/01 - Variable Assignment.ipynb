{
 "cells": [
  {
   "cell_type": "markdown",
   "id": "cb509939-cde2-4d8a-9bc1-f0ed75d928ba",
   "metadata": {},
   "source": [
    "# Variable Assignment"
   ]
  },
  {
   "cell_type": "markdown",
   "id": "c4d14f1a-7120-4201-b448-d987ebc6cd6e",
   "metadata": {},
   "source": [
    "## Dynamic Typing\n",
    "Python uses dynamic typing, meaning you can reassign variables to different data types. This makes Python very flexible in assigning data types; it differs from other languages that are statically typed."
   ]
  },
  {
   "cell_type": "code",
   "execution_count": 51,
   "id": "b0e6052e-7748-4fdd-a447-76111cacb700",
   "metadata": {},
   "outputs": [],
   "source": [
    "my_dogs = 2"
   ]
  },
  {
   "cell_type": "code",
   "execution_count": 53,
   "id": "7d743a4d-d748-4b59-8ee0-9a177907c2c9",
   "metadata": {},
   "outputs": [
    {
     "data": {
      "text/plain": [
       "2"
      ]
     },
     "execution_count": 53,
     "metadata": {},
     "output_type": "execute_result"
    }
   ],
   "source": [
    "my_dogs"
   ]
  },
  {
   "cell_type": "code",
   "execution_count": 55,
   "id": "a8a8a0d2-b4d0-4146-b32d-92c7db8a6ee5",
   "metadata": {},
   "outputs": [],
   "source": [
    "my_dogs = ['Sammy', 'Frankie']"
   ]
  },
  {
   "cell_type": "code",
   "execution_count": 57,
   "id": "fcd96bcc-ff56-42a2-9c69-11bbb50bca78",
   "metadata": {},
   "outputs": [
    {
     "data": {
      "text/plain": [
       "['Sammy', 'Frankie']"
      ]
     },
     "execution_count": 57,
     "metadata": {},
     "output_type": "execute_result"
    }
   ],
   "source": [
    "my_dogs"
   ]
  },
  {
   "cell_type": "markdown",
   "id": "1973b1a8-edb7-40c7-8892-120e42b76468",
   "metadata": {},
   "source": [
    "## Assigning Variables\n",
    "Variable assignment follows name = object, where a single equals sign = is an assignment operator"
   ]
  },
  {
   "cell_type": "code",
   "execution_count": 59,
   "id": "b9a4f996-7482-421e-8773-83e41a8fcdd0",
   "metadata": {},
   "outputs": [],
   "source": [
    "a = 5"
   ]
  },
  {
   "cell_type": "code",
   "execution_count": 61,
   "id": "1edd2275-f1f6-4e26-b096-c43eb8f36548",
   "metadata": {},
   "outputs": [
    {
     "data": {
      "text/plain": [
       "5"
      ]
     },
     "execution_count": 61,
     "metadata": {},
     "output_type": "execute_result"
    }
   ],
   "source": [
    "a"
   ]
  },
  {
   "cell_type": "code",
   "execution_count": 63,
   "id": "b224214e-02d8-47b7-a339-5a9a9bda95b0",
   "metadata": {},
   "outputs": [],
   "source": [
    "a = 10"
   ]
  },
  {
   "cell_type": "code",
   "execution_count": 65,
   "id": "259bc253-30e8-45a1-a55f-25368dc7f4c8",
   "metadata": {},
   "outputs": [
    {
     "data": {
      "text/plain": [
       "10"
      ]
     },
     "execution_count": 65,
     "metadata": {},
     "output_type": "execute_result"
    }
   ],
   "source": [
    "a"
   ]
  },
  {
   "cell_type": "markdown",
   "id": "85212a4a-533e-471c-91ba-e0d86c408884",
   "metadata": {},
   "source": [
    "## Reassigning Variables\n",
    "Python lets you reassign variables with a reference to the same object."
   ]
  },
  {
   "cell_type": "code",
   "execution_count": 67,
   "id": "06a92395-4a1d-40aa-a228-1c28a6157ff8",
   "metadata": {},
   "outputs": [],
   "source": [
    "a = a + 10"
   ]
  },
  {
   "cell_type": "code",
   "execution_count": 69,
   "id": "1cf531f6-d898-416e-96a7-fceb13d0dd39",
   "metadata": {},
   "outputs": [
    {
     "data": {
      "text/plain": [
       "20"
      ]
     },
     "execution_count": 69,
     "metadata": {},
     "output_type": "execute_result"
    }
   ],
   "source": [
    "a"
   ]
  },
  {
   "cell_type": "markdown",
   "id": "c439d772-8957-45ec-9632-764a25b4fc51",
   "metadata": {},
   "source": [
    "There's actually a shortcut for this. \n",
    "Python lets you add, subtract, multiply and divide numbers with reassignment using +=, -=, *=, and /=."
   ]
  },
  {
   "cell_type": "code",
   "execution_count": 71,
   "id": "dea469f9-ea2a-4807-b19e-1b60e42bfacd",
   "metadata": {},
   "outputs": [],
   "source": [
    "a += 10"
   ]
  },
  {
   "cell_type": "code",
   "execution_count": 73,
   "id": "ec88a594-43f6-4350-8601-8a389c48d630",
   "metadata": {},
   "outputs": [
    {
     "data": {
      "text/plain": [
       "30"
      ]
     },
     "execution_count": 73,
     "metadata": {},
     "output_type": "execute_result"
    }
   ],
   "source": [
    "a"
   ]
  },
  {
   "cell_type": "code",
   "execution_count": 75,
   "id": "08b555d3-5e99-49d7-86a7-ef49a5b937c4",
   "metadata": {},
   "outputs": [],
   "source": [
    "a *= 2"
   ]
  },
  {
   "cell_type": "code",
   "execution_count": 77,
   "id": "66125f50-e908-4296-927b-8080143a0246",
   "metadata": {},
   "outputs": [
    {
     "data": {
      "text/plain": [
       "60"
      ]
     },
     "execution_count": 77,
     "metadata": {},
     "output_type": "execute_result"
    }
   ],
   "source": [
    "a"
   ]
  },
  {
   "cell_type": "markdown",
   "id": "457a9298-9d3a-4108-b79f-dd62083146cd",
   "metadata": {},
   "source": [
    "## Determining variable type with type()\n",
    "You can check what type of object is assigned to a variable using Python's built-in type() function. Common data types include:\n",
    "\n",
    "* int (for integer)\n",
    "* float\n",
    "* str (for string)\n",
    "* list\n",
    "* tuple\n",
    "* dict (for dictionary)\n",
    "* set\n",
    "* bool (for Boolean True/False)"
   ]
  },
  {
   "cell_type": "code",
   "execution_count": 79,
   "id": "0f936a11-b936-455a-bece-7b1ad310ed90",
   "metadata": {},
   "outputs": [
    {
     "data": {
      "text/plain": [
       "int"
      ]
     },
     "execution_count": 79,
     "metadata": {},
     "output_type": "execute_result"
    }
   ],
   "source": [
    "type(a)"
   ]
  },
  {
   "cell_type": "code",
   "execution_count": 81,
   "id": "a64fc0b9-b790-4f00-9e3d-8cc1f95c4414",
   "metadata": {},
   "outputs": [],
   "source": [
    "a = (1,2)"
   ]
  },
  {
   "cell_type": "code",
   "execution_count": 83,
   "id": "5c9eeb50-371e-4e0c-9aa3-352869ecc04a",
   "metadata": {},
   "outputs": [
    {
     "data": {
      "text/plain": [
       "tuple"
      ]
     },
     "execution_count": 83,
     "metadata": {},
     "output_type": "execute_result"
    }
   ],
   "source": [
    "type(a)"
   ]
  }
 ],
 "metadata": {
  "kernelspec": {
   "display_name": "Python 3 (ipykernel)",
   "language": "python",
   "name": "python3"
  },
  "language_info": {
   "codemirror_mode": {
    "name": "ipython",
    "version": 3
   },
   "file_extension": ".py",
   "mimetype": "text/x-python",
   "name": "python",
   "nbconvert_exporter": "python",
   "pygments_lexer": "ipython3",
   "version": "3.11.7"
  }
 },
 "nbformat": 4,
 "nbformat_minor": 5
}

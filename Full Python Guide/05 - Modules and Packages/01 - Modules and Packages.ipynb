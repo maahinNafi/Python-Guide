{
 "cells": [
  {
   "cell_type": "markdown",
   "id": "8c923a57-e81f-491c-874b-2a75a9e42589",
   "metadata": {},
   "source": [
    "# Modules and Packages\n",
    "This is the best source the official docs: https://docs.python.org/3/tutorial/modules.html#packages\n",
    "The info here is great too: https://python4astronomers.github.io/installation/packages.html\n",
    "Here's some extra info to help:\n",
    "\n",
    "Modules in Python are simply Python files with the .py extension, which implement a set of functions. Modules are imported from other modules using the import command.\n",
    "\n",
    "To import a module, we use the import command. Check out the full list of built-in modules in the Python standard library here.\n",
    "\n",
    "The first time a module is loaded into a running Python script, it is initialized by executing the code in the module once. If another module in your code imports the same module again, it will not be loaded twice but once only - so local variables inside the module act as a \"singleton\" - they are initialized only once.\n",
    "\n",
    "If we want to import the math module, we simply import the name of the module:"
   ]
  },
  {
   "cell_type": "code",
   "execution_count": 2,
   "id": "2d239891-db29-4d98-a722-a00239e4a3d6",
   "metadata": {},
   "outputs": [],
   "source": [
    "# import the library\n",
    "import math"
   ]
  },
  {
   "cell_type": "code",
   "execution_count": 4,
   "id": "9574941a-7f14-4156-a98b-945d49d0132e",
   "metadata": {},
   "outputs": [
    {
     "data": {
      "text/plain": [
       "3"
      ]
     },
     "execution_count": 4,
     "metadata": {},
     "output_type": "execute_result"
    }
   ],
   "source": [
    "# use it (ceiling rounding)\n",
    "math.ceil(2.4)"
   ]
  },
  {
   "cell_type": "markdown",
   "id": "de976243-cc9c-4749-b09c-a09feb48d974",
   "metadata": {},
   "source": [
    "## Exploring built-in modules"
   ]
  },
  {
   "cell_type": "markdown",
   "id": "6920cae4-f18e-49df-9c20-8b84aff8b6c6",
   "metadata": {},
   "source": [
    "Two very important functions come in handy when exploring modules in Python - the dir and help functions.\n",
    "\n",
    "We can look for which functions are implemented in each module by using the dir function:"
   ]
  },
  {
   "cell_type": "code",
   "execution_count": 10,
   "id": "6d325f59-a8f6-48e2-a0ce-4ce3c2d08c1a",
   "metadata": {},
   "outputs": [
    {
     "name": "stdout",
     "output_type": "stream",
     "text": [
      "['__doc__', '__file__', '__loader__', '__name__', '__package__', '__spec__', 'acos', 'acosh', 'asin', 'asinh', 'atan', 'atan2', 'atanh', 'cbrt', 'ceil', 'comb', 'copysign', 'cos', 'cosh', 'degrees', 'dist', 'e', 'erf', 'erfc', 'exp', 'exp2', 'expm1', 'fabs', 'factorial', 'floor', 'fmod', 'frexp', 'fsum', 'gamma', 'gcd', 'hypot', 'inf', 'isclose', 'isfinite', 'isinf', 'isnan', 'isqrt', 'lcm', 'ldexp', 'lgamma', 'log', 'log10', 'log1p', 'log2', 'modf', 'nan', 'nextafter', 'perm', 'pi', 'pow', 'prod', 'radians', 'remainder', 'sin', 'sinh', 'sqrt', 'tan', 'tanh', 'tau', 'trunc', 'ulp']\n"
     ]
    }
   ],
   "source": [
    "print(dir(math))"
   ]
  },
  {
   "cell_type": "markdown",
   "id": "d99b8f8b-25ff-4c93-9a26-2f93aacef44c",
   "metadata": {},
   "source": [
    "When we find the function in the module we want to use, we can read about it more using the help function, inside the Python interpreter:"
   ]
  },
  {
   "cell_type": "code",
   "execution_count": 15,
   "id": "6ab57ab3-488f-4edd-99fc-3233a76088c6",
   "metadata": {},
   "outputs": [
    {
     "name": "stdout",
     "output_type": "stream",
     "text": [
      "Help on built-in function ceil in module math:\n",
      "\n",
      "ceil(x, /)\n",
      "    Return the ceiling of x as an Integral.\n",
      "    \n",
      "    This is the smallest integer >= x.\n",
      "\n"
     ]
    }
   ],
   "source": [
    "help(math.ceil)"
   ]
  },
  {
   "cell_type": "markdown",
   "id": "95c41058-eaa1-4190-a58a-c2e4caf4d93a",
   "metadata": {},
   "source": [
    "## Writing modules\n",
    "Writing Python modules is very simple. To create a module of your own, simply create a new .py file with the module name, and then import it using the Python file name (without the .py extension) using the import command."
   ]
  },
  {
   "cell_type": "markdown",
   "id": "deb1cd16-fd41-4b87-afb3-5bf024b7e037",
   "metadata": {},
   "source": [
    "## Writing packages\n",
    "Packages are name-spaces which contain multiple packages and modules themselves. They are simply directories, but with a twist.\n",
    "\n",
    "Each package in Python is a directory which MUST contain a special file called __init__.py. This file can be empty, and it indicates that the directory it contains is a Python package, so it can be imported the same way a module can be imported.\n",
    "\n",
    "If we create a directory called foo, which marks the package name, we can then create a module inside that package called bar. We also must not forget to add the __init__.py file inside the foo directory.\n",
    "\n",
    "To use the module bar, we can import it in two ways:"
   ]
  },
  {
   "cell_type": "code",
   "execution_count": null,
   "id": "35656106-d97e-428f-bcc4-b33d82ade488",
   "metadata": {},
   "outputs": [],
   "source": [
    "# Just an example, this won't work if you run it in jupyter notebook right now\n",
    "import foo.bar"
   ]
  },
  {
   "cell_type": "code",
   "execution_count": null,
   "id": "45f67113-f190-4bde-86ec-8f7575051511",
   "metadata": {},
   "outputs": [],
   "source": [
    "# OR could do it this way\n",
    "from foo import bar"
   ]
  },
  {
   "cell_type": "markdown",
   "id": "b7bd5ee4-c665-4f9b-93d1-798db1b4f613",
   "metadata": {},
   "source": [
    "In the first method, we must use the foo prefix whenever we access the module bar. In the second method, we don't, because we import the module to our module's name-space.\n",
    "\n",
    "The __init__.py file can also decide which modules the package exports as the API, while keeping other modules internal, by overriding the __all__ variable, like so:"
   ]
  },
  {
   "cell_type": "code",
   "execution_count": null,
   "id": "109dfe97-450d-40d7-8c21-494abc5bbdb3",
   "metadata": {},
   "outputs": [],
   "source": [
    "__init__.py:\n",
    "\n",
    "__all__ = [\"bar\"]"
   ]
  }
 ],
 "metadata": {
  "kernelspec": {
   "display_name": "Python 3 (ipykernel)",
   "language": "python",
   "name": "python3"
  },
  "language_info": {
   "codemirror_mode": {
    "name": "ipython",
    "version": 3
   },
   "file_extension": ".py",
   "mimetype": "text/x-python",
   "name": "python",
   "nbconvert_exporter": "python",
   "pygments_lexer": "ipython3",
   "version": "3.11.7"
  }
 },
 "nbformat": 4,
 "nbformat_minor": 5
}

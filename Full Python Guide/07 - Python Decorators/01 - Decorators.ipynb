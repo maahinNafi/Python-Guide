{
 "cells": [
  {
   "cell_type": "markdown",
   "id": "21db524c-b95a-4397-b6fb-469907bf527b",
   "metadata": {},
   "source": [
    "# Decorators\n",
    "Decorators can be thought of as functions which modify the functionality of another function. They help to make your code shorter and more \"Pythonic\"."
   ]
  },
  {
   "cell_type": "markdown",
   "id": "32c12eef-2f84-4859-92e6-dd2a9628496f",
   "metadata": {},
   "source": [
    "## Functions Review"
   ]
  },
  {
   "cell_type": "code",
   "execution_count": 2,
   "id": "61b8fd05-bf1a-4e3f-8d87-7f33aa4a73fc",
   "metadata": {},
   "outputs": [],
   "source": [
    "def func():\n",
    "    return 1"
   ]
  },
  {
   "cell_type": "code",
   "execution_count": 4,
   "id": "32613de9-e1d1-42a2-837f-04b44d3937e2",
   "metadata": {},
   "outputs": [
    {
     "data": {
      "text/plain": [
       "1"
      ]
     },
     "execution_count": 4,
     "metadata": {},
     "output_type": "execute_result"
    }
   ],
   "source": [
    "func()"
   ]
  },
  {
   "cell_type": "markdown",
   "id": "56484abb-3b84-4dcc-ad55-93ce01b4c3ed",
   "metadata": {},
   "source": [
    "## Scope Review"
   ]
  },
  {
   "cell_type": "code",
   "execution_count": 7,
   "id": "adb27903-e326-4664-9266-5f2ea9fe5678",
   "metadata": {},
   "outputs": [],
   "source": [
    "s = 'Global Variable'\n",
    "\n",
    "def check_for_locals():\n",
    "    print(locals())"
   ]
  },
  {
   "cell_type": "markdown",
   "id": "6c1cfcdb-8dd2-46b2-a036-6bd28d2038b9",
   "metadata": {},
   "source": [
    "Python functions create a new scope, meaning the function has its own namespace to find variable names when they are mentioned within the function. We can check for local variables and global variables with the locals() and globals() functions."
   ]
  },
  {
   "cell_type": "code",
   "execution_count": 10,
   "id": "ae9f40d7-5192-4d42-8b0e-32ee070dd62d",
   "metadata": {},
   "outputs": [
    {
     "name": "stdout",
     "output_type": "stream",
     "text": [
      "{'__name__': '__main__', '__doc__': 'Automatically created module for IPython interactive environment', '__package__': None, '__loader__': None, '__spec__': None, '__builtin__': <module 'builtins' (built-in)>, '__builtins__': <module 'builtins' (built-in)>, '_ih': ['', 'import json\\nimport getpass\\nimport hashlib\\n\\ndef import_pandas_safely():\\n    try:\\n        return __import__(\\'pandas\\')\\n    except ImportError:\\n        return False\\n\\n\\n__pandas = import_pandas_safely()\\n\\n\\ndef is_data_frame(v: str):\\n    obj = eval(v)\\n    if  isinstance(obj, __pandas.core.frame.DataFrame) or isinstance(obj, __pandas.core.series.Series):\\n        return True\\n\\n\\ndef dataframe_columns(var):\\n    df = eval(var)\\n    if isinstance(df, __pandas.core.series.Series):\\n        return [[df.name, str(df.dtype)]]\\n    return list(map(lambda col: [col, str(df[col].dtype)], df.columns))\\n\\n\\ndef dtypes_str(frame):\\n    return str(eval(frame).dtypes)\\n\\ndef dataframe_hash(var):\\n    # Return a hash including the column names and number of rows\\n    df = eval(var)\\n    if isinstance(df, __pandas.core.series.Series):\\n        return hashlib.sha256(f\"{var}-{df.name},{len(df)}\".encode(\\'utf-8\\')).hexdigest()\\n    return hashlib.sha256(f\"{var}-{\\',\\'.join(df.columns)},{len(df)}\".encode(\\'utf-8\\')).hexdigest()\\n\\ndef get_dataframes():\\n    if __pandas is None:\\n        return []\\n    user = getpass.getuser()\\n    values = get_ipython().run_line_magic(\\'who_ls\\', \\'\\')\\n    dataframes = [\\n        {\\n            \"name\": var,\\n            \"type\": type(eval(var)).__name__,\\n            \"hash\": dataframe_hash(var),\\n            \"cols\": dataframe_columns(var),\\n            \"dtypesStr\": dtypes_str(var),\\n        }\\n        for var in values if is_data_frame(var)\\n    ]\\n    result = {\"dataframes\": dataframes, \"user\": user}\\n    return json.dumps(result, ensure_ascii=False)\\n\\n\\nget_dataframes()', 'def func():\\n    return 1', 'import json\\nimport getpass\\nimport hashlib\\n\\ndef import_pandas_safely():\\n    try:\\n        return __import__(\\'pandas\\')\\n    except ImportError:\\n        return False\\n\\n\\n__pandas = import_pandas_safely()\\n\\n\\ndef is_data_frame(v: str):\\n    obj = eval(v)\\n    if  isinstance(obj, __pandas.core.frame.DataFrame) or isinstance(obj, __pandas.core.series.Series):\\n        return True\\n\\n\\ndef dataframe_columns(var):\\n    df = eval(var)\\n    if isinstance(df, __pandas.core.series.Series):\\n        return [[df.name, str(df.dtype)]]\\n    return list(map(lambda col: [col, str(df[col].dtype)], df.columns))\\n\\n\\ndef dtypes_str(frame):\\n    return str(eval(frame).dtypes)\\n\\ndef dataframe_hash(var):\\n    # Return a hash including the column names and number of rows\\n    df = eval(var)\\n    if isinstance(df, __pandas.core.series.Series):\\n        return hashlib.sha256(f\"{var}-{df.name},{len(df)}\".encode(\\'utf-8\\')).hexdigest()\\n    return hashlib.sha256(f\"{var}-{\\',\\'.join(df.columns)},{len(df)}\".encode(\\'utf-8\\')).hexdigest()\\n\\ndef get_dataframes():\\n    if __pandas is None:\\n        return []\\n    user = getpass.getuser()\\n    values = get_ipython().run_line_magic(\\'who_ls\\', \\'\\')\\n    dataframes = [\\n        {\\n            \"name\": var,\\n            \"type\": type(eval(var)).__name__,\\n            \"hash\": dataframe_hash(var),\\n            \"cols\": dataframe_columns(var),\\n            \"dtypesStr\": dtypes_str(var),\\n        }\\n        for var in values if is_data_frame(var)\\n    ]\\n    result = {\"dataframes\": dataframes, \"user\": user}\\n    return json.dumps(result, ensure_ascii=False)\\n\\n\\nget_dataframes()', 'func()', 'import json\\nimport getpass\\nimport hashlib\\n\\ndef import_pandas_safely():\\n    try:\\n        return __import__(\\'pandas\\')\\n    except ImportError:\\n        return False\\n\\n\\n__pandas = import_pandas_safely()\\n\\n\\ndef is_data_frame(v: str):\\n    obj = eval(v)\\n    if  isinstance(obj, __pandas.core.frame.DataFrame) or isinstance(obj, __pandas.core.series.Series):\\n        return True\\n\\n\\ndef dataframe_columns(var):\\n    df = eval(var)\\n    if isinstance(df, __pandas.core.series.Series):\\n        return [[df.name, str(df.dtype)]]\\n    return list(map(lambda col: [col, str(df[col].dtype)], df.columns))\\n\\n\\ndef dtypes_str(frame):\\n    return str(eval(frame).dtypes)\\n\\ndef dataframe_hash(var):\\n    # Return a hash including the column names and number of rows\\n    df = eval(var)\\n    if isinstance(df, __pandas.core.series.Series):\\n        return hashlib.sha256(f\"{var}-{df.name},{len(df)}\".encode(\\'utf-8\\')).hexdigest()\\n    return hashlib.sha256(f\"{var}-{\\',\\'.join(df.columns)},{len(df)}\".encode(\\'utf-8\\')).hexdigest()\\n\\ndef get_dataframes():\\n    if __pandas is None:\\n        return []\\n    user = getpass.getuser()\\n    values = get_ipython().run_line_magic(\\'who_ls\\', \\'\\')\\n    dataframes = [\\n        {\\n            \"name\": var,\\n            \"type\": type(eval(var)).__name__,\\n            \"hash\": dataframe_hash(var),\\n            \"cols\": dataframe_columns(var),\\n            \"dtypesStr\": dtypes_str(var),\\n        }\\n        for var in values if is_data_frame(var)\\n    ]\\n    result = {\"dataframes\": dataframes, \"user\": user}\\n    return json.dumps(result, ensure_ascii=False)\\n\\n\\nget_dataframes()', 'import json\\nimport getpass\\nimport hashlib\\n\\ndef import_pandas_safely():\\n    try:\\n        return __import__(\\'pandas\\')\\n    except ImportError:\\n        return False\\n\\n\\n__pandas = import_pandas_safely()\\n\\n\\ndef is_data_frame(v: str):\\n    obj = eval(v)\\n    if  isinstance(obj, __pandas.core.frame.DataFrame) or isinstance(obj, __pandas.core.series.Series):\\n        return True\\n\\n\\ndef dataframe_columns(var):\\n    df = eval(var)\\n    if isinstance(df, __pandas.core.series.Series):\\n        return [[df.name, str(df.dtype)]]\\n    return list(map(lambda col: [col, str(df[col].dtype)], df.columns))\\n\\n\\ndef dtypes_str(frame):\\n    return str(eval(frame).dtypes)\\n\\ndef dataframe_hash(var):\\n    # Return a hash including the column names and number of rows\\n    df = eval(var)\\n    if isinstance(df, __pandas.core.series.Series):\\n        return hashlib.sha256(f\"{var}-{df.name},{len(df)}\".encode(\\'utf-8\\')).hexdigest()\\n    return hashlib.sha256(f\"{var}-{\\',\\'.join(df.columns)},{len(df)}\".encode(\\'utf-8\\')).hexdigest()\\n\\ndef get_dataframes():\\n    if __pandas is None:\\n        return []\\n    user = getpass.getuser()\\n    values = get_ipython().run_line_magic(\\'who_ls\\', \\'\\')\\n    dataframes = [\\n        {\\n            \"name\": var,\\n            \"type\": type(eval(var)).__name__,\\n            \"hash\": dataframe_hash(var),\\n            \"cols\": dataframe_columns(var),\\n            \"dtypesStr\": dtypes_str(var),\\n        }\\n        for var in values if is_data_frame(var)\\n    ]\\n    result = {\"dataframes\": dataframes, \"user\": user}\\n    return json.dumps(result, ensure_ascii=False)\\n\\n\\nget_dataframes()', \"s = 'Global Variable'\\n\\ndef check_for_locals():\\n    print(locals())\", 'import json\\nimport getpass\\nimport hashlib\\n\\ndef import_pandas_safely():\\n    try:\\n        return __import__(\\'pandas\\')\\n    except ImportError:\\n        return False\\n\\n\\n__pandas = import_pandas_safely()\\n\\n\\ndef is_data_frame(v: str):\\n    obj = eval(v)\\n    if  isinstance(obj, __pandas.core.frame.DataFrame) or isinstance(obj, __pandas.core.series.Series):\\n        return True\\n\\n\\ndef dataframe_columns(var):\\n    df = eval(var)\\n    if isinstance(df, __pandas.core.series.Series):\\n        return [[df.name, str(df.dtype)]]\\n    return list(map(lambda col: [col, str(df[col].dtype)], df.columns))\\n\\n\\ndef dtypes_str(frame):\\n    return str(eval(frame).dtypes)\\n\\ndef dataframe_hash(var):\\n    # Return a hash including the column names and number of rows\\n    df = eval(var)\\n    if isinstance(df, __pandas.core.series.Series):\\n        return hashlib.sha256(f\"{var}-{df.name},{len(df)}\".encode(\\'utf-8\\')).hexdigest()\\n    return hashlib.sha256(f\"{var}-{\\',\\'.join(df.columns)},{len(df)}\".encode(\\'utf-8\\')).hexdigest()\\n\\ndef get_dataframes():\\n    if __pandas is None:\\n        return []\\n    user = getpass.getuser()\\n    values = get_ipython().run_line_magic(\\'who_ls\\', \\'\\')\\n    dataframes = [\\n        {\\n            \"name\": var,\\n            \"type\": type(eval(var)).__name__,\\n            \"hash\": dataframe_hash(var),\\n            \"cols\": dataframe_columns(var),\\n            \"dtypesStr\": dtypes_str(var),\\n        }\\n        for var in values if is_data_frame(var)\\n    ]\\n    result = {\"dataframes\": dataframes, \"user\": user}\\n    return json.dumps(result, ensure_ascii=False)\\n\\n\\nget_dataframes()', 'import json\\nimport getpass\\nimport hashlib\\n\\ndef import_pandas_safely():\\n    try:\\n        return __import__(\\'pandas\\')\\n    except ImportError:\\n        return False\\n\\n\\n__pandas = import_pandas_safely()\\n\\n\\ndef is_data_frame(v: str):\\n    obj = eval(v)\\n    if  isinstance(obj, __pandas.core.frame.DataFrame) or isinstance(obj, __pandas.core.series.Series):\\n        return True\\n\\n\\ndef dataframe_columns(var):\\n    df = eval(var)\\n    if isinstance(df, __pandas.core.series.Series):\\n        return [[df.name, str(df.dtype)]]\\n    return list(map(lambda col: [col, str(df[col].dtype)], df.columns))\\n\\n\\ndef dtypes_str(frame):\\n    return str(eval(frame).dtypes)\\n\\ndef dataframe_hash(var):\\n    # Return a hash including the column names and number of rows\\n    df = eval(var)\\n    if isinstance(df, __pandas.core.series.Series):\\n        return hashlib.sha256(f\"{var}-{df.name},{len(df)}\".encode(\\'utf-8\\')).hexdigest()\\n    return hashlib.sha256(f\"{var}-{\\',\\'.join(df.columns)},{len(df)}\".encode(\\'utf-8\\')).hexdigest()\\n\\ndef get_dataframes():\\n    if __pandas is None:\\n        return []\\n    user = getpass.getuser()\\n    values = get_ipython().run_line_magic(\\'who_ls\\', \\'\\')\\n    dataframes = [\\n        {\\n            \"name\": var,\\n            \"type\": type(eval(var)).__name__,\\n            \"hash\": dataframe_hash(var),\\n            \"cols\": dataframe_columns(var),\\n            \"dtypesStr\": dtypes_str(var),\\n        }\\n        for var in values if is_data_frame(var)\\n    ]\\n    result = {\"dataframes\": dataframes, \"user\": user}\\n    return json.dumps(result, ensure_ascii=False)\\n\\n\\nget_dataframes()', 'print(globals())'], '_oh': {1: '{\"dataframes\": [], \"user\": \"maahinnafi\"}', 3: '{\"dataframes\": [], \"user\": \"maahinnafi\"}', 4: 1, 5: '{\"dataframes\": [], \"user\": \"maahinnafi\"}', 6: '{\"dataframes\": [], \"user\": \"maahinnafi\"}', 8: '{\"dataframes\": [], \"user\": \"maahinnafi\"}', 9: '{\"dataframes\": [], \"user\": \"maahinnafi\"}'}, '_dh': [PosixPath('/Users/maahinnafi/Desktop/Full Python Guide/07 - Python Decorators')], 'In': ['', 'import json\\nimport getpass\\nimport hashlib\\n\\ndef import_pandas_safely():\\n    try:\\n        return __import__(\\'pandas\\')\\n    except ImportError:\\n        return False\\n\\n\\n__pandas = import_pandas_safely()\\n\\n\\ndef is_data_frame(v: str):\\n    obj = eval(v)\\n    if  isinstance(obj, __pandas.core.frame.DataFrame) or isinstance(obj, __pandas.core.series.Series):\\n        return True\\n\\n\\ndef dataframe_columns(var):\\n    df = eval(var)\\n    if isinstance(df, __pandas.core.series.Series):\\n        return [[df.name, str(df.dtype)]]\\n    return list(map(lambda col: [col, str(df[col].dtype)], df.columns))\\n\\n\\ndef dtypes_str(frame):\\n    return str(eval(frame).dtypes)\\n\\ndef dataframe_hash(var):\\n    # Return a hash including the column names and number of rows\\n    df = eval(var)\\n    if isinstance(df, __pandas.core.series.Series):\\n        return hashlib.sha256(f\"{var}-{df.name},{len(df)}\".encode(\\'utf-8\\')).hexdigest()\\n    return hashlib.sha256(f\"{var}-{\\',\\'.join(df.columns)},{len(df)}\".encode(\\'utf-8\\')).hexdigest()\\n\\ndef get_dataframes():\\n    if __pandas is None:\\n        return []\\n    user = getpass.getuser()\\n    values = get_ipython().run_line_magic(\\'who_ls\\', \\'\\')\\n    dataframes = [\\n        {\\n            \"name\": var,\\n            \"type\": type(eval(var)).__name__,\\n            \"hash\": dataframe_hash(var),\\n            \"cols\": dataframe_columns(var),\\n            \"dtypesStr\": dtypes_str(var),\\n        }\\n        for var in values if is_data_frame(var)\\n    ]\\n    result = {\"dataframes\": dataframes, \"user\": user}\\n    return json.dumps(result, ensure_ascii=False)\\n\\n\\nget_dataframes()', 'def func():\\n    return 1', 'import json\\nimport getpass\\nimport hashlib\\n\\ndef import_pandas_safely():\\n    try:\\n        return __import__(\\'pandas\\')\\n    except ImportError:\\n        return False\\n\\n\\n__pandas = import_pandas_safely()\\n\\n\\ndef is_data_frame(v: str):\\n    obj = eval(v)\\n    if  isinstance(obj, __pandas.core.frame.DataFrame) or isinstance(obj, __pandas.core.series.Series):\\n        return True\\n\\n\\ndef dataframe_columns(var):\\n    df = eval(var)\\n    if isinstance(df, __pandas.core.series.Series):\\n        return [[df.name, str(df.dtype)]]\\n    return list(map(lambda col: [col, str(df[col].dtype)], df.columns))\\n\\n\\ndef dtypes_str(frame):\\n    return str(eval(frame).dtypes)\\n\\ndef dataframe_hash(var):\\n    # Return a hash including the column names and number of rows\\n    df = eval(var)\\n    if isinstance(df, __pandas.core.series.Series):\\n        return hashlib.sha256(f\"{var}-{df.name},{len(df)}\".encode(\\'utf-8\\')).hexdigest()\\n    return hashlib.sha256(f\"{var}-{\\',\\'.join(df.columns)},{len(df)}\".encode(\\'utf-8\\')).hexdigest()\\n\\ndef get_dataframes():\\n    if __pandas is None:\\n        return []\\n    user = getpass.getuser()\\n    values = get_ipython().run_line_magic(\\'who_ls\\', \\'\\')\\n    dataframes = [\\n        {\\n            \"name\": var,\\n            \"type\": type(eval(var)).__name__,\\n            \"hash\": dataframe_hash(var),\\n            \"cols\": dataframe_columns(var),\\n            \"dtypesStr\": dtypes_str(var),\\n        }\\n        for var in values if is_data_frame(var)\\n    ]\\n    result = {\"dataframes\": dataframes, \"user\": user}\\n    return json.dumps(result, ensure_ascii=False)\\n\\n\\nget_dataframes()', 'func()', 'import json\\nimport getpass\\nimport hashlib\\n\\ndef import_pandas_safely():\\n    try:\\n        return __import__(\\'pandas\\')\\n    except ImportError:\\n        return False\\n\\n\\n__pandas = import_pandas_safely()\\n\\n\\ndef is_data_frame(v: str):\\n    obj = eval(v)\\n    if  isinstance(obj, __pandas.core.frame.DataFrame) or isinstance(obj, __pandas.core.series.Series):\\n        return True\\n\\n\\ndef dataframe_columns(var):\\n    df = eval(var)\\n    if isinstance(df, __pandas.core.series.Series):\\n        return [[df.name, str(df.dtype)]]\\n    return list(map(lambda col: [col, str(df[col].dtype)], df.columns))\\n\\n\\ndef dtypes_str(frame):\\n    return str(eval(frame).dtypes)\\n\\ndef dataframe_hash(var):\\n    # Return a hash including the column names and number of rows\\n    df = eval(var)\\n    if isinstance(df, __pandas.core.series.Series):\\n        return hashlib.sha256(f\"{var}-{df.name},{len(df)}\".encode(\\'utf-8\\')).hexdigest()\\n    return hashlib.sha256(f\"{var}-{\\',\\'.join(df.columns)},{len(df)}\".encode(\\'utf-8\\')).hexdigest()\\n\\ndef get_dataframes():\\n    if __pandas is None:\\n        return []\\n    user = getpass.getuser()\\n    values = get_ipython().run_line_magic(\\'who_ls\\', \\'\\')\\n    dataframes = [\\n        {\\n            \"name\": var,\\n            \"type\": type(eval(var)).__name__,\\n            \"hash\": dataframe_hash(var),\\n            \"cols\": dataframe_columns(var),\\n            \"dtypesStr\": dtypes_str(var),\\n        }\\n        for var in values if is_data_frame(var)\\n    ]\\n    result = {\"dataframes\": dataframes, \"user\": user}\\n    return json.dumps(result, ensure_ascii=False)\\n\\n\\nget_dataframes()', 'import json\\nimport getpass\\nimport hashlib\\n\\ndef import_pandas_safely():\\n    try:\\n        return __import__(\\'pandas\\')\\n    except ImportError:\\n        return False\\n\\n\\n__pandas = import_pandas_safely()\\n\\n\\ndef is_data_frame(v: str):\\n    obj = eval(v)\\n    if  isinstance(obj, __pandas.core.frame.DataFrame) or isinstance(obj, __pandas.core.series.Series):\\n        return True\\n\\n\\ndef dataframe_columns(var):\\n    df = eval(var)\\n    if isinstance(df, __pandas.core.series.Series):\\n        return [[df.name, str(df.dtype)]]\\n    return list(map(lambda col: [col, str(df[col].dtype)], df.columns))\\n\\n\\ndef dtypes_str(frame):\\n    return str(eval(frame).dtypes)\\n\\ndef dataframe_hash(var):\\n    # Return a hash including the column names and number of rows\\n    df = eval(var)\\n    if isinstance(df, __pandas.core.series.Series):\\n        return hashlib.sha256(f\"{var}-{df.name},{len(df)}\".encode(\\'utf-8\\')).hexdigest()\\n    return hashlib.sha256(f\"{var}-{\\',\\'.join(df.columns)},{len(df)}\".encode(\\'utf-8\\')).hexdigest()\\n\\ndef get_dataframes():\\n    if __pandas is None:\\n        return []\\n    user = getpass.getuser()\\n    values = get_ipython().run_line_magic(\\'who_ls\\', \\'\\')\\n    dataframes = [\\n        {\\n            \"name\": var,\\n            \"type\": type(eval(var)).__name__,\\n            \"hash\": dataframe_hash(var),\\n            \"cols\": dataframe_columns(var),\\n            \"dtypesStr\": dtypes_str(var),\\n        }\\n        for var in values if is_data_frame(var)\\n    ]\\n    result = {\"dataframes\": dataframes, \"user\": user}\\n    return json.dumps(result, ensure_ascii=False)\\n\\n\\nget_dataframes()', \"s = 'Global Variable'\\n\\ndef check_for_locals():\\n    print(locals())\", 'import json\\nimport getpass\\nimport hashlib\\n\\ndef import_pandas_safely():\\n    try:\\n        return __import__(\\'pandas\\')\\n    except ImportError:\\n        return False\\n\\n\\n__pandas = import_pandas_safely()\\n\\n\\ndef is_data_frame(v: str):\\n    obj = eval(v)\\n    if  isinstance(obj, __pandas.core.frame.DataFrame) or isinstance(obj, __pandas.core.series.Series):\\n        return True\\n\\n\\ndef dataframe_columns(var):\\n    df = eval(var)\\n    if isinstance(df, __pandas.core.series.Series):\\n        return [[df.name, str(df.dtype)]]\\n    return list(map(lambda col: [col, str(df[col].dtype)], df.columns))\\n\\n\\ndef dtypes_str(frame):\\n    return str(eval(frame).dtypes)\\n\\ndef dataframe_hash(var):\\n    # Return a hash including the column names and number of rows\\n    df = eval(var)\\n    if isinstance(df, __pandas.core.series.Series):\\n        return hashlib.sha256(f\"{var}-{df.name},{len(df)}\".encode(\\'utf-8\\')).hexdigest()\\n    return hashlib.sha256(f\"{var}-{\\',\\'.join(df.columns)},{len(df)}\".encode(\\'utf-8\\')).hexdigest()\\n\\ndef get_dataframes():\\n    if __pandas is None:\\n        return []\\n    user = getpass.getuser()\\n    values = get_ipython().run_line_magic(\\'who_ls\\', \\'\\')\\n    dataframes = [\\n        {\\n            \"name\": var,\\n            \"type\": type(eval(var)).__name__,\\n            \"hash\": dataframe_hash(var),\\n            \"cols\": dataframe_columns(var),\\n            \"dtypesStr\": dtypes_str(var),\\n        }\\n        for var in values if is_data_frame(var)\\n    ]\\n    result = {\"dataframes\": dataframes, \"user\": user}\\n    return json.dumps(result, ensure_ascii=False)\\n\\n\\nget_dataframes()', 'import json\\nimport getpass\\nimport hashlib\\n\\ndef import_pandas_safely():\\n    try:\\n        return __import__(\\'pandas\\')\\n    except ImportError:\\n        return False\\n\\n\\n__pandas = import_pandas_safely()\\n\\n\\ndef is_data_frame(v: str):\\n    obj = eval(v)\\n    if  isinstance(obj, __pandas.core.frame.DataFrame) or isinstance(obj, __pandas.core.series.Series):\\n        return True\\n\\n\\ndef dataframe_columns(var):\\n    df = eval(var)\\n    if isinstance(df, __pandas.core.series.Series):\\n        return [[df.name, str(df.dtype)]]\\n    return list(map(lambda col: [col, str(df[col].dtype)], df.columns))\\n\\n\\ndef dtypes_str(frame):\\n    return str(eval(frame).dtypes)\\n\\ndef dataframe_hash(var):\\n    # Return a hash including the column names and number of rows\\n    df = eval(var)\\n    if isinstance(df, __pandas.core.series.Series):\\n        return hashlib.sha256(f\"{var}-{df.name},{len(df)}\".encode(\\'utf-8\\')).hexdigest()\\n    return hashlib.sha256(f\"{var}-{\\',\\'.join(df.columns)},{len(df)}\".encode(\\'utf-8\\')).hexdigest()\\n\\ndef get_dataframes():\\n    if __pandas is None:\\n        return []\\n    user = getpass.getuser()\\n    values = get_ipython().run_line_magic(\\'who_ls\\', \\'\\')\\n    dataframes = [\\n        {\\n            \"name\": var,\\n            \"type\": type(eval(var)).__name__,\\n            \"hash\": dataframe_hash(var),\\n            \"cols\": dataframe_columns(var),\\n            \"dtypesStr\": dtypes_str(var),\\n        }\\n        for var in values if is_data_frame(var)\\n    ]\\n    result = {\"dataframes\": dataframes, \"user\": user}\\n    return json.dumps(result, ensure_ascii=False)\\n\\n\\nget_dataframes()', 'print(globals())'], 'Out': {1: '{\"dataframes\": [], \"user\": \"maahinnafi\"}', 3: '{\"dataframes\": [], \"user\": \"maahinnafi\"}', 4: 1, 5: '{\"dataframes\": [], \"user\": \"maahinnafi\"}', 6: '{\"dataframes\": [], \"user\": \"maahinnafi\"}', 8: '{\"dataframes\": [], \"user\": \"maahinnafi\"}', 9: '{\"dataframes\": [], \"user\": \"maahinnafi\"}'}, 'get_ipython': <bound method InteractiveShell.get_ipython of <ipykernel.zmqshell.ZMQInteractiveShell object at 0x10d4bd010>>, 'exit': <IPython.core.autocall.ZMQExitAutocall object at 0x10d4d0f10>, 'quit': <IPython.core.autocall.ZMQExitAutocall object at 0x10d4d0f10>, 'open': <function open at 0x10bd494e0>, '_': '{\"dataframes\": [], \"user\": \"maahinnafi\"}', '__': '{\"dataframes\": [], \"user\": \"maahinnafi\"}', '___': '{\"dataframes\": [], \"user\": \"maahinnafi\"}', '__session__': '/Users/maahinnafi/Desktop/Full Python Guide/07 - Python Decorators/01 - Decorators.ipynb', '_i': '\\nimport json\\nimport getpass\\nimport hashlib\\n\\ndef import_pandas_safely():\\n    try:\\n        return __import__(\\'pandas\\')\\n    except ImportError:\\n        return False\\n\\n\\n__pandas = import_pandas_safely()\\n\\n\\ndef is_data_frame(v: str):\\n    obj = eval(v)\\n    if  isinstance(obj, __pandas.core.frame.DataFrame) or isinstance(obj, __pandas.core.series.Series):\\n        return True\\n\\n\\ndef dataframe_columns(var):\\n    df = eval(var)\\n    if isinstance(df, __pandas.core.series.Series):\\n        return [[df.name, str(df.dtype)]]\\n    return list(map(lambda col: [col, str(df[col].dtype)], df.columns))\\n\\n\\ndef dtypes_str(frame):\\n    return str(eval(frame).dtypes)\\n\\ndef dataframe_hash(var):\\n    # Return a hash including the column names and number of rows\\n    df = eval(var)\\n    if isinstance(df, __pandas.core.series.Series):\\n        return hashlib.sha256(f\"{var}-{df.name},{len(df)}\".encode(\\'utf-8\\')).hexdigest()\\n    return hashlib.sha256(f\"{var}-{\\',\\'.join(df.columns)},{len(df)}\".encode(\\'utf-8\\')).hexdigest()\\n\\ndef get_dataframes():\\n    if __pandas is None:\\n        return []\\n    user = getpass.getuser()\\n    values = %who_ls\\n    dataframes = [\\n        {\\n            \"name\": var,\\n            \"type\": type(eval(var)).__name__,\\n            \"hash\": dataframe_hash(var),\\n            \"cols\": dataframe_columns(var),\\n            \"dtypesStr\": dtypes_str(var),\\n        }\\n        for var in values if is_data_frame(var)\\n    ]\\n    result = {\"dataframes\": dataframes, \"user\": user}\\n    return json.dumps(result, ensure_ascii=False)\\n\\n\\nget_dataframes()', '_ii': '\\nimport json\\nimport getpass\\nimport hashlib\\n\\ndef import_pandas_safely():\\n    try:\\n        return __import__(\\'pandas\\')\\n    except ImportError:\\n        return False\\n\\n\\n__pandas = import_pandas_safely()\\n\\n\\ndef is_data_frame(v: str):\\n    obj = eval(v)\\n    if  isinstance(obj, __pandas.core.frame.DataFrame) or isinstance(obj, __pandas.core.series.Series):\\n        return True\\n\\n\\ndef dataframe_columns(var):\\n    df = eval(var)\\n    if isinstance(df, __pandas.core.series.Series):\\n        return [[df.name, str(df.dtype)]]\\n    return list(map(lambda col: [col, str(df[col].dtype)], df.columns))\\n\\n\\ndef dtypes_str(frame):\\n    return str(eval(frame).dtypes)\\n\\ndef dataframe_hash(var):\\n    # Return a hash including the column names and number of rows\\n    df = eval(var)\\n    if isinstance(df, __pandas.core.series.Series):\\n        return hashlib.sha256(f\"{var}-{df.name},{len(df)}\".encode(\\'utf-8\\')).hexdigest()\\n    return hashlib.sha256(f\"{var}-{\\',\\'.join(df.columns)},{len(df)}\".encode(\\'utf-8\\')).hexdigest()\\n\\ndef get_dataframes():\\n    if __pandas is None:\\n        return []\\n    user = getpass.getuser()\\n    values = %who_ls\\n    dataframes = [\\n        {\\n            \"name\": var,\\n            \"type\": type(eval(var)).__name__,\\n            \"hash\": dataframe_hash(var),\\n            \"cols\": dataframe_columns(var),\\n            \"dtypesStr\": dtypes_str(var),\\n        }\\n        for var in values if is_data_frame(var)\\n    ]\\n    result = {\"dataframes\": dataframes, \"user\": user}\\n    return json.dumps(result, ensure_ascii=False)\\n\\n\\nget_dataframes()', '_iii': \"s = 'Global Variable'\\n\\ndef check_for_locals():\\n    print(locals())\", '_i1': '\\nimport json\\nimport getpass\\nimport hashlib\\n\\ndef import_pandas_safely():\\n    try:\\n        return __import__(\\'pandas\\')\\n    except ImportError:\\n        return False\\n\\n\\n__pandas = import_pandas_safely()\\n\\n\\ndef is_data_frame(v: str):\\n    obj = eval(v)\\n    if  isinstance(obj, __pandas.core.frame.DataFrame) or isinstance(obj, __pandas.core.series.Series):\\n        return True\\n\\n\\ndef dataframe_columns(var):\\n    df = eval(var)\\n    if isinstance(df, __pandas.core.series.Series):\\n        return [[df.name, str(df.dtype)]]\\n    return list(map(lambda col: [col, str(df[col].dtype)], df.columns))\\n\\n\\ndef dtypes_str(frame):\\n    return str(eval(frame).dtypes)\\n\\ndef dataframe_hash(var):\\n    # Return a hash including the column names and number of rows\\n    df = eval(var)\\n    if isinstance(df, __pandas.core.series.Series):\\n        return hashlib.sha256(f\"{var}-{df.name},{len(df)}\".encode(\\'utf-8\\')).hexdigest()\\n    return hashlib.sha256(f\"{var}-{\\',\\'.join(df.columns)},{len(df)}\".encode(\\'utf-8\\')).hexdigest()\\n\\ndef get_dataframes():\\n    if __pandas is None:\\n        return []\\n    user = getpass.getuser()\\n    values = %who_ls\\n    dataframes = [\\n        {\\n            \"name\": var,\\n            \"type\": type(eval(var)).__name__,\\n            \"hash\": dataframe_hash(var),\\n            \"cols\": dataframe_columns(var),\\n            \"dtypesStr\": dtypes_str(var),\\n        }\\n        for var in values if is_data_frame(var)\\n    ]\\n    result = {\"dataframes\": dataframes, \"user\": user}\\n    return json.dumps(result, ensure_ascii=False)\\n\\n\\nget_dataframes()', 'json': <module 'json' from '/opt/anaconda3/lib/python3.11/json/__init__.py'>, 'getpass': <module 'getpass' from '/opt/anaconda3/lib/python3.11/getpass.py'>, 'hashlib': <module 'hashlib' from '/opt/anaconda3/lib/python3.11/hashlib.py'>, 'import_pandas_safely': <function import_pandas_safely at 0x10d7389a0>, '__pandas': <module 'pandas' from '/opt/anaconda3/lib/python3.11/site-packages/pandas/__init__.py'>, 'is_data_frame': <function is_data_frame at 0x10d738d60>, 'dataframe_columns': <function dataframe_columns at 0x162df3ec0>, 'dtypes_str': <function dtypes_str at 0x162df3920>, 'dataframe_hash': <function dataframe_hash at 0x162df3e20>, 'get_dataframes': <function get_dataframes at 0x10d738cc0>, '_1': '{\"dataframes\": [], \"user\": \"maahinnafi\"}', '_i2': 'def func():\\n    return 1', 'func': <function func at 0x10d764040>, '_i3': '\\nimport json\\nimport getpass\\nimport hashlib\\n\\ndef import_pandas_safely():\\n    try:\\n        return __import__(\\'pandas\\')\\n    except ImportError:\\n        return False\\n\\n\\n__pandas = import_pandas_safely()\\n\\n\\ndef is_data_frame(v: str):\\n    obj = eval(v)\\n    if  isinstance(obj, __pandas.core.frame.DataFrame) or isinstance(obj, __pandas.core.series.Series):\\n        return True\\n\\n\\ndef dataframe_columns(var):\\n    df = eval(var)\\n    if isinstance(df, __pandas.core.series.Series):\\n        return [[df.name, str(df.dtype)]]\\n    return list(map(lambda col: [col, str(df[col].dtype)], df.columns))\\n\\n\\ndef dtypes_str(frame):\\n    return str(eval(frame).dtypes)\\n\\ndef dataframe_hash(var):\\n    # Return a hash including the column names and number of rows\\n    df = eval(var)\\n    if isinstance(df, __pandas.core.series.Series):\\n        return hashlib.sha256(f\"{var}-{df.name},{len(df)}\".encode(\\'utf-8\\')).hexdigest()\\n    return hashlib.sha256(f\"{var}-{\\',\\'.join(df.columns)},{len(df)}\".encode(\\'utf-8\\')).hexdigest()\\n\\ndef get_dataframes():\\n    if __pandas is None:\\n        return []\\n    user = getpass.getuser()\\n    values = %who_ls\\n    dataframes = [\\n        {\\n            \"name\": var,\\n            \"type\": type(eval(var)).__name__,\\n            \"hash\": dataframe_hash(var),\\n            \"cols\": dataframe_columns(var),\\n            \"dtypesStr\": dtypes_str(var),\\n        }\\n        for var in values if is_data_frame(var)\\n    ]\\n    result = {\"dataframes\": dataframes, \"user\": user}\\n    return json.dumps(result, ensure_ascii=False)\\n\\n\\nget_dataframes()', '_3': '{\"dataframes\": [], \"user\": \"maahinnafi\"}', '_i4': 'func()', '_4': 1, '_i5': '\\nimport json\\nimport getpass\\nimport hashlib\\n\\ndef import_pandas_safely():\\n    try:\\n        return __import__(\\'pandas\\')\\n    except ImportError:\\n        return False\\n\\n\\n__pandas = import_pandas_safely()\\n\\n\\ndef is_data_frame(v: str):\\n    obj = eval(v)\\n    if  isinstance(obj, __pandas.core.frame.DataFrame) or isinstance(obj, __pandas.core.series.Series):\\n        return True\\n\\n\\ndef dataframe_columns(var):\\n    df = eval(var)\\n    if isinstance(df, __pandas.core.series.Series):\\n        return [[df.name, str(df.dtype)]]\\n    return list(map(lambda col: [col, str(df[col].dtype)], df.columns))\\n\\n\\ndef dtypes_str(frame):\\n    return str(eval(frame).dtypes)\\n\\ndef dataframe_hash(var):\\n    # Return a hash including the column names and number of rows\\n    df = eval(var)\\n    if isinstance(df, __pandas.core.series.Series):\\n        return hashlib.sha256(f\"{var}-{df.name},{len(df)}\".encode(\\'utf-8\\')).hexdigest()\\n    return hashlib.sha256(f\"{var}-{\\',\\'.join(df.columns)},{len(df)}\".encode(\\'utf-8\\')).hexdigest()\\n\\ndef get_dataframes():\\n    if __pandas is None:\\n        return []\\n    user = getpass.getuser()\\n    values = %who_ls\\n    dataframes = [\\n        {\\n            \"name\": var,\\n            \"type\": type(eval(var)).__name__,\\n            \"hash\": dataframe_hash(var),\\n            \"cols\": dataframe_columns(var),\\n            \"dtypesStr\": dtypes_str(var),\\n        }\\n        for var in values if is_data_frame(var)\\n    ]\\n    result = {\"dataframes\": dataframes, \"user\": user}\\n    return json.dumps(result, ensure_ascii=False)\\n\\n\\nget_dataframes()', '_5': '{\"dataframes\": [], \"user\": \"maahinnafi\"}', '_i6': '\\nimport json\\nimport getpass\\nimport hashlib\\n\\ndef import_pandas_safely():\\n    try:\\n        return __import__(\\'pandas\\')\\n    except ImportError:\\n        return False\\n\\n\\n__pandas = import_pandas_safely()\\n\\n\\ndef is_data_frame(v: str):\\n    obj = eval(v)\\n    if  isinstance(obj, __pandas.core.frame.DataFrame) or isinstance(obj, __pandas.core.series.Series):\\n        return True\\n\\n\\ndef dataframe_columns(var):\\n    df = eval(var)\\n    if isinstance(df, __pandas.core.series.Series):\\n        return [[df.name, str(df.dtype)]]\\n    return list(map(lambda col: [col, str(df[col].dtype)], df.columns))\\n\\n\\ndef dtypes_str(frame):\\n    return str(eval(frame).dtypes)\\n\\ndef dataframe_hash(var):\\n    # Return a hash including the column names and number of rows\\n    df = eval(var)\\n    if isinstance(df, __pandas.core.series.Series):\\n        return hashlib.sha256(f\"{var}-{df.name},{len(df)}\".encode(\\'utf-8\\')).hexdigest()\\n    return hashlib.sha256(f\"{var}-{\\',\\'.join(df.columns)},{len(df)}\".encode(\\'utf-8\\')).hexdigest()\\n\\ndef get_dataframes():\\n    if __pandas is None:\\n        return []\\n    user = getpass.getuser()\\n    values = %who_ls\\n    dataframes = [\\n        {\\n            \"name\": var,\\n            \"type\": type(eval(var)).__name__,\\n            \"hash\": dataframe_hash(var),\\n            \"cols\": dataframe_columns(var),\\n            \"dtypesStr\": dtypes_str(var),\\n        }\\n        for var in values if is_data_frame(var)\\n    ]\\n    result = {\"dataframes\": dataframes, \"user\": user}\\n    return json.dumps(result, ensure_ascii=False)\\n\\n\\nget_dataframes()', '_6': '{\"dataframes\": [], \"user\": \"maahinnafi\"}', '_i7': \"s = 'Global Variable'\\n\\ndef check_for_locals():\\n    print(locals())\", 's': 'Global Variable', 'check_for_locals': <function check_for_locals at 0x10d7640e0>, '_i8': '\\nimport json\\nimport getpass\\nimport hashlib\\n\\ndef import_pandas_safely():\\n    try:\\n        return __import__(\\'pandas\\')\\n    except ImportError:\\n        return False\\n\\n\\n__pandas = import_pandas_safely()\\n\\n\\ndef is_data_frame(v: str):\\n    obj = eval(v)\\n    if  isinstance(obj, __pandas.core.frame.DataFrame) or isinstance(obj, __pandas.core.series.Series):\\n        return True\\n\\n\\ndef dataframe_columns(var):\\n    df = eval(var)\\n    if isinstance(df, __pandas.core.series.Series):\\n        return [[df.name, str(df.dtype)]]\\n    return list(map(lambda col: [col, str(df[col].dtype)], df.columns))\\n\\n\\ndef dtypes_str(frame):\\n    return str(eval(frame).dtypes)\\n\\ndef dataframe_hash(var):\\n    # Return a hash including the column names and number of rows\\n    df = eval(var)\\n    if isinstance(df, __pandas.core.series.Series):\\n        return hashlib.sha256(f\"{var}-{df.name},{len(df)}\".encode(\\'utf-8\\')).hexdigest()\\n    return hashlib.sha256(f\"{var}-{\\',\\'.join(df.columns)},{len(df)}\".encode(\\'utf-8\\')).hexdigest()\\n\\ndef get_dataframes():\\n    if __pandas is None:\\n        return []\\n    user = getpass.getuser()\\n    values = %who_ls\\n    dataframes = [\\n        {\\n            \"name\": var,\\n            \"type\": type(eval(var)).__name__,\\n            \"hash\": dataframe_hash(var),\\n            \"cols\": dataframe_columns(var),\\n            \"dtypesStr\": dtypes_str(var),\\n        }\\n        for var in values if is_data_frame(var)\\n    ]\\n    result = {\"dataframes\": dataframes, \"user\": user}\\n    return json.dumps(result, ensure_ascii=False)\\n\\n\\nget_dataframes()', '_8': '{\"dataframes\": [], \"user\": \"maahinnafi\"}', '_i9': '\\nimport json\\nimport getpass\\nimport hashlib\\n\\ndef import_pandas_safely():\\n    try:\\n        return __import__(\\'pandas\\')\\n    except ImportError:\\n        return False\\n\\n\\n__pandas = import_pandas_safely()\\n\\n\\ndef is_data_frame(v: str):\\n    obj = eval(v)\\n    if  isinstance(obj, __pandas.core.frame.DataFrame) or isinstance(obj, __pandas.core.series.Series):\\n        return True\\n\\n\\ndef dataframe_columns(var):\\n    df = eval(var)\\n    if isinstance(df, __pandas.core.series.Series):\\n        return [[df.name, str(df.dtype)]]\\n    return list(map(lambda col: [col, str(df[col].dtype)], df.columns))\\n\\n\\ndef dtypes_str(frame):\\n    return str(eval(frame).dtypes)\\n\\ndef dataframe_hash(var):\\n    # Return a hash including the column names and number of rows\\n    df = eval(var)\\n    if isinstance(df, __pandas.core.series.Series):\\n        return hashlib.sha256(f\"{var}-{df.name},{len(df)}\".encode(\\'utf-8\\')).hexdigest()\\n    return hashlib.sha256(f\"{var}-{\\',\\'.join(df.columns)},{len(df)}\".encode(\\'utf-8\\')).hexdigest()\\n\\ndef get_dataframes():\\n    if __pandas is None:\\n        return []\\n    user = getpass.getuser()\\n    values = %who_ls\\n    dataframes = [\\n        {\\n            \"name\": var,\\n            \"type\": type(eval(var)).__name__,\\n            \"hash\": dataframe_hash(var),\\n            \"cols\": dataframe_columns(var),\\n            \"dtypesStr\": dtypes_str(var),\\n        }\\n        for var in values if is_data_frame(var)\\n    ]\\n    result = {\"dataframes\": dataframes, \"user\": user}\\n    return json.dumps(result, ensure_ascii=False)\\n\\n\\nget_dataframes()', '_9': '{\"dataframes\": [], \"user\": \"maahinnafi\"}', '_i10': 'print(globals())'}\n"
     ]
    }
   ],
   "source": [
    "print(globals())"
   ]
  },
  {
   "cell_type": "code",
   "execution_count": 12,
   "id": "55f25b4b-3d85-4926-8811-c06cbb7c4b19",
   "metadata": {},
   "outputs": [
    {
     "name": "stdout",
     "output_type": "stream",
     "text": [
      "dict_keys(['__name__', '__doc__', '__package__', '__loader__', '__spec__', '__builtin__', '__builtins__', '_ih', '_oh', '_dh', 'In', 'Out', 'get_ipython', 'exit', 'quit', 'open', '_', '__', '___', '__session__', '_i', '_ii', '_iii', '_i1', 'json', 'getpass', 'hashlib', 'import_pandas_safely', '__pandas', 'is_data_frame', 'dataframe_columns', 'dtypes_str', 'dataframe_hash', 'get_dataframes', '_1', '_i2', 'func', '_i3', '_3', '_i4', '_4', '_i5', '_5', '_i6', '_6', '_i7', 's', 'check_for_locals', '_i8', '_8', '_i9', '_9', '_i10', '_i11', '_11', '_i12'])\n"
     ]
    }
   ],
   "source": [
    "print(globals().keys())"
   ]
  },
  {
   "cell_type": "code",
   "execution_count": 14,
   "id": "3c048ad9-39ba-49d5-b478-627cfb9adb6c",
   "metadata": {},
   "outputs": [
    {
     "data": {
      "text/plain": [
       "'Global Variable'"
      ]
     },
     "execution_count": 14,
     "metadata": {},
     "output_type": "execute_result"
    }
   ],
   "source": [
    "globals()['s']"
   ]
  },
  {
   "cell_type": "code",
   "execution_count": 16,
   "id": "4d25a828-2f39-4444-a44f-96708a1293de",
   "metadata": {},
   "outputs": [
    {
     "name": "stdout",
     "output_type": "stream",
     "text": [
      "{}\n"
     ]
    }
   ],
   "source": [
    "check_for_locals()"
   ]
  },
  {
   "cell_type": "markdown",
   "id": "dbd912ff-5707-4eb2-906f-92e0628767a9",
   "metadata": {},
   "source": [
    "In Python everything is an object. That means functions are objects which can be assigned labels and passed into other functions."
   ]
  },
  {
   "cell_type": "code",
   "execution_count": 19,
   "id": "5611ba17-abcc-47e8-ada5-fb7699bd0ce6",
   "metadata": {},
   "outputs": [],
   "source": [
    "def hello(name='Maahin'):\n",
    "    return 'Hello '+ name"
   ]
  },
  {
   "cell_type": "code",
   "execution_count": 21,
   "id": "51e4bdcc-160e-48ce-9eb1-a2b75a12fbeb",
   "metadata": {},
   "outputs": [
    {
     "data": {
      "text/plain": [
       "'Hello Maahin'"
      ]
     },
     "execution_count": 21,
     "metadata": {},
     "output_type": "execute_result"
    }
   ],
   "source": [
    "hello()"
   ]
  },
  {
   "cell_type": "markdown",
   "id": "922cead0-4104-4571-a5b1-b2abc10efc1e",
   "metadata": {},
   "source": [
    "Assign another label to the function. Note that we are not using parentheses here because we are not calling the function hello, instead we are just passing a function object to the greet variable."
   ]
  },
  {
   "cell_type": "code",
   "execution_count": 24,
   "id": "9b1a1d70-2fb3-4983-91f4-10d29b63467f",
   "metadata": {},
   "outputs": [],
   "source": [
    "greet = hello"
   ]
  },
  {
   "cell_type": "code",
   "execution_count": 26,
   "id": "e9bf7446-c65a-44ac-9653-99a2c6f7b976",
   "metadata": {},
   "outputs": [
    {
     "data": {
      "text/plain": [
       "<function __main__.hello(name='Maahin')>"
      ]
     },
     "execution_count": 26,
     "metadata": {},
     "output_type": "execute_result"
    }
   ],
   "source": [
    "greet"
   ]
  },
  {
   "cell_type": "code",
   "execution_count": 28,
   "id": "f249b936-de43-4224-8654-2d76018e241a",
   "metadata": {},
   "outputs": [
    {
     "data": {
      "text/plain": [
       "'Hello Maahin'"
      ]
     },
     "execution_count": 28,
     "metadata": {},
     "output_type": "execute_result"
    }
   ],
   "source": [
    "greet()"
   ]
  },
  {
   "cell_type": "markdown",
   "id": "3f650b02-993a-4cab-b871-012e79f34a8b",
   "metadata": {},
   "source": [
    "What happens when we delete the name hello?"
   ]
  },
  {
   "cell_type": "code",
   "execution_count": 31,
   "id": "fc318257-bf9a-4bb5-ad53-526447527383",
   "metadata": {},
   "outputs": [],
   "source": [
    "del hello"
   ]
  },
  {
   "cell_type": "code",
   "execution_count": 33,
   "id": "9c4339d7-0a2c-486a-bc81-40be1260e1eb",
   "metadata": {},
   "outputs": [
    {
     "ename": "NameError",
     "evalue": "name 'hello' is not defined",
     "output_type": "error",
     "traceback": [
      "\u001b[0;31m---------------------------------------------------------------------------\u001b[0m",
      "\u001b[0;31mNameError\u001b[0m                                 Traceback (most recent call last)",
      "Cell \u001b[0;32mIn[33], line 1\u001b[0m\n\u001b[0;32m----> 1\u001b[0m hello()\n",
      "\u001b[0;31mNameError\u001b[0m: name 'hello' is not defined"
     ]
    }
   ],
   "source": [
    "hello()"
   ]
  },
  {
   "cell_type": "code",
   "execution_count": null,
   "id": "d6cb2015-2bff-43f0-a5a0-5f78d4f0350f",
   "metadata": {},
   "outputs": [],
   "source": [
    "greet()"
   ]
  },
  {
   "cell_type": "markdown",
   "id": "220c7202-9585-4170-b168-5bbe9664c92a",
   "metadata": {},
   "source": [
    "Even though we deleted the name hello, the name greet still points to our original function object. It is important to know that functions are objects that can be passed to other objects"
   ]
  },
  {
   "cell_type": "markdown",
   "id": "a4c3c1dd-48a9-457d-97b4-b8bd4cef53f1",
   "metadata": {},
   "source": [
    "## Functions within functions"
   ]
  },
  {
   "cell_type": "code",
   "execution_count": 36,
   "id": "cc82bc1d-53cc-44a6-b1e6-04c2fd746a7a",
   "metadata": {},
   "outputs": [],
   "source": [
    "def hello(name='Maahin'):\n",
    "    print('The hello() function has been executed')\n",
    "    \n",
    "    def greet():\n",
    "        return '\\t This is inside the greet() function'\n",
    "    \n",
    "    def welcome():\n",
    "        return \"\\t This is inside the welcome() function\"\n",
    "    \n",
    "    print(greet())\n",
    "    print(welcome())\n",
    "    print(\"Now we are back inside the hello() function\")"
   ]
  },
  {
   "cell_type": "code",
   "execution_count": 38,
   "id": "16b4f72e-2453-4a9b-9db2-618d1b19f3ed",
   "metadata": {},
   "outputs": [
    {
     "name": "stdout",
     "output_type": "stream",
     "text": [
      "The hello() function has been executed\n",
      "\t This is inside the greet() function\n",
      "\t This is inside the welcome() function\n",
      "Now we are back inside the hello() function\n"
     ]
    }
   ],
   "source": [
    "hello()"
   ]
  },
  {
   "cell_type": "code",
   "execution_count": 40,
   "id": "cfadab4f-040c-43d0-b66d-acdcf5842726",
   "metadata": {},
   "outputs": [
    {
     "ename": "NameError",
     "evalue": "name 'welcome' is not defined",
     "output_type": "error",
     "traceback": [
      "\u001b[0;31m---------------------------------------------------------------------------\u001b[0m",
      "\u001b[0;31mNameError\u001b[0m                                 Traceback (most recent call last)",
      "Cell \u001b[0;32mIn[40], line 1\u001b[0m\n\u001b[0;32m----> 1\u001b[0m welcome()\n",
      "\u001b[0;31mNameError\u001b[0m: name 'welcome' is not defined"
     ]
    }
   ],
   "source": [
    "welcome()"
   ]
  },
  {
   "cell_type": "markdown",
   "id": "3a319ca7-1cd4-4dc6-adac-3e2ce3c7a4c5",
   "metadata": {},
   "source": [
    "Due to scope, the welcome() function is not defined outside of the hello() function."
   ]
  },
  {
   "cell_type": "markdown",
   "id": "e91d508c-1e78-446f-bc83-ae006c86f568",
   "metadata": {},
   "source": [
    "## Returning Functions"
   ]
  },
  {
   "cell_type": "code",
   "execution_count": 44,
   "id": "06560d67-683b-4b50-a965-1ebab259d5b1",
   "metadata": {},
   "outputs": [],
   "source": [
    "def hello(name='Maahin'):\n",
    "    \n",
    "    def greet():\n",
    "        return '\\t This is inside the greet() function'\n",
    "    \n",
    "    def welcome():\n",
    "        return \"\\t This is inside the welcome() function\"\n",
    "    \n",
    "    if name == 'Maahin':\n",
    "        return greet\n",
    "    else:\n",
    "        return welcome"
   ]
  },
  {
   "cell_type": "code",
   "execution_count": 46,
   "id": "42fb3381-45bc-452e-9ac2-7bf5e77be95f",
   "metadata": {},
   "outputs": [],
   "source": [
    "x = hello()"
   ]
  },
  {
   "cell_type": "code",
   "execution_count": 48,
   "id": "774b4163-5777-4bca-bf29-6f01bf333bd5",
   "metadata": {},
   "outputs": [
    {
     "data": {
      "text/plain": [
       "<function __main__.hello.<locals>.greet()>"
      ]
     },
     "execution_count": 48,
     "metadata": {},
     "output_type": "execute_result"
    }
   ],
   "source": [
    "x"
   ]
  },
  {
   "cell_type": "code",
   "execution_count": 50,
   "id": "eea6da21-f22e-415d-9626-f5baa72d249b",
   "metadata": {},
   "outputs": [
    {
     "name": "stdout",
     "output_type": "stream",
     "text": [
      "\t This is inside the greet() function\n"
     ]
    }
   ],
   "source": [
    "print(x())"
   ]
  },
  {
   "cell_type": "code",
   "execution_count": 52,
   "id": "e5dfc246-8d52-49b9-879a-e43e320d9fae",
   "metadata": {},
   "outputs": [
    {
     "data": {
      "text/plain": [
       "'\\t This is inside the greet() function'"
      ]
     },
     "execution_count": 52,
     "metadata": {},
     "output_type": "execute_result"
    }
   ],
   "source": [
    "x()"
   ]
  },
  {
   "cell_type": "markdown",
   "id": "1065c49b-b8e1-4e93-99aa-1ff51cde67d8",
   "metadata": {},
   "source": [
    "## Functions as Arguments"
   ]
  },
  {
   "cell_type": "code",
   "execution_count": 60,
   "id": "b161e4b7-5c70-4263-8437-1704f5edbe1b",
   "metadata": {},
   "outputs": [],
   "source": [
    "def hello():\n",
    "    return 'Hi Maahin!'\n",
    "\n",
    "def other(func):\n",
    "    print('Other code would go here')\n",
    "    print(func())"
   ]
  },
  {
   "cell_type": "code",
   "execution_count": 62,
   "id": "f00d030d-04de-44de-91df-ecfcb6da0da7",
   "metadata": {},
   "outputs": [
    {
     "name": "stdout",
     "output_type": "stream",
     "text": [
      "Other code would go here\n",
      "Hi Maahin!\n"
     ]
    }
   ],
   "source": [
    "other(hello)"
   ]
  },
  {
   "cell_type": "markdown",
   "id": "1782cec5-dc51-4f08-b4d1-21144af37833",
   "metadata": {},
   "source": [
    "## Creating a Decorator"
   ]
  },
  {
   "cell_type": "code",
   "execution_count": 66,
   "id": "a280bba0-25a4-4ccf-bd55-b610588f99ce",
   "metadata": {},
   "outputs": [],
   "source": [
    "def new_decorator(func):\n",
    "\n",
    "    def wrap_func():\n",
    "        print(\"Code would be here, before executing the func\")\n",
    "\n",
    "        func()\n",
    "\n",
    "        print(\"Code here will execute after the func()\")\n",
    "\n",
    "    return wrap_func\n",
    "\n",
    "def func_needs_decorator():\n",
    "    print(\"This function is in need of a Decorator\")"
   ]
  },
  {
   "cell_type": "code",
   "execution_count": 68,
   "id": "361d8eeb-a349-4cbd-82d3-54ba4ef6f465",
   "metadata": {},
   "outputs": [
    {
     "name": "stdout",
     "output_type": "stream",
     "text": [
      "This function is in need of a Decorator\n"
     ]
    }
   ],
   "source": [
    "func_needs_decorator()"
   ]
  },
  {
   "cell_type": "code",
   "execution_count": 70,
   "id": "799c575e-7d35-479a-83db-d0ed924ed2fb",
   "metadata": {},
   "outputs": [],
   "source": [
    "# Reassign func_needs_decorator\n",
    "func_needs_decorator = new_decorator(func_needs_decorator)"
   ]
  },
  {
   "cell_type": "code",
   "execution_count": 72,
   "id": "2083fcdd-ebc8-4640-b908-24de641c7258",
   "metadata": {},
   "outputs": [
    {
     "name": "stdout",
     "output_type": "stream",
     "text": [
      "Code would be here, before executing the func\n",
      "This function is in need of a Decorator\n",
      "Code here will execute after the func()\n"
     ]
    }
   ],
   "source": [
    "func_needs_decorator()"
   ]
  },
  {
   "cell_type": "markdown",
   "id": "651c1338-8a20-4be9-83e8-b202750c117e",
   "metadata": {},
   "source": [
    "A decorator simply wrapped the function and modified its behavior. We can rewrite this code using the @ symbol, which is what Python uses for Decorators."
   ]
  },
  {
   "cell_type": "code",
   "execution_count": 76,
   "id": "048cb6ae-c1d4-4ba8-97f5-f2710a87f34e",
   "metadata": {},
   "outputs": [],
   "source": [
    "@new_decorator\n",
    "def func_needs_decorator():\n",
    "    print(\"This function is in need of a Decorator\")"
   ]
  },
  {
   "cell_type": "code",
   "execution_count": 78,
   "id": "3fb2772d-92db-46e0-8326-ae06b4260b2f",
   "metadata": {},
   "outputs": [
    {
     "name": "stdout",
     "output_type": "stream",
     "text": [
      "Code would be here, before executing the func\n",
      "This function is in need of a Decorator\n",
      "Code here will execute after the func()\n"
     ]
    }
   ],
   "source": [
    "func_needs_decorator()"
   ]
  }
 ],
 "metadata": {
  "kernelspec": {
   "display_name": "Python 3 (ipykernel)",
   "language": "python",
   "name": "python3"
  },
  "language_info": {
   "codemirror_mode": {
    "name": "ipython",
    "version": 3
   },
   "file_extension": ".py",
   "mimetype": "text/x-python",
   "name": "python",
   "nbconvert_exporter": "python",
   "pygments_lexer": "ipython3",
   "version": "3.11.7"
  }
 },
 "nbformat": 4,
 "nbformat_minor": 5
}

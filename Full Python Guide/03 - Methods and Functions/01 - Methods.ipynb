{
 "cells": [
  {
   "cell_type": "markdown",
   "id": "09000bf0-121f-4e29-8e05-d6fe52709178",
   "metadata": {},
   "source": [
    "# Methods"
   ]
  },
  {
   "cell_type": "markdown",
   "id": "a075747e-4b4d-4bc5-ab27-aa7d98575fa7",
   "metadata": {},
   "source": [
    "Methods are essentially functions built into objects. Methods perform specific actions on an object and can also take arguments, just like a function."
   ]
  },
  {
   "cell_type": "code",
   "execution_count": 3,
   "id": "8f8dd1db-fe97-42b6-8035-570c741997de",
   "metadata": {},
   "outputs": [],
   "source": [
    "# Create a simple list\n",
    "lst = [1,2,3,4,5]"
   ]
  },
  {
   "cell_type": "markdown",
   "id": "6e6f1813-74d8-4da5-a534-bc1198e5fc8b",
   "metadata": {},
   "source": [
    "Fortunately, with iPython and the Jupyter Notebook we can quickly see all the possible methods using the tab key. The methods for a list are:\n",
    "\n",
    "* append\n",
    "* count\n",
    "* extend\n",
    "* insert\n",
    "* pop\n",
    "* remove\n",
    "* reverse\n",
    "* rt"
   ]
  }
 ],
 "metadata": {
  "kernelspec": {
   "display_name": "Python 3 (ipykernel)",
   "language": "python",
   "name": "python3"
  },
  "language_info": {
   "codemirror_mode": {
    "name": "ipython",
    "version": 3
   },
   "file_extension": ".py",
   "mimetype": "text/x-python",
   "name": "python",
   "nbconvert_exporter": "python",
   "pygments_lexer": "ipython3",
   "version": "3.11.7"
  }
 },
 "nbformat": 4,
 "nbformat_minor": 5
}

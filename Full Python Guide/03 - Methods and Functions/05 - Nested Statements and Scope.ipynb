{
 "cells": [
  {
   "cell_type": "markdown",
   "id": "a3a4c4a4-5763-4cae-bb02-64086ab02dfa",
   "metadata": {},
   "source": [
    "# Nested Statements and Scope\n",
    "When you create a variable name in Python the name is stored in a name-space. Variable names also have a scope, the scope determines the visibility of that variable name to other parts of your code."
   ]
  },
  {
   "cell_type": "markdown",
   "id": "c4153265-6099-4765-989e-5e0eeffa0a41",
   "metadata": {},
   "source": [
    "Example:"
   ]
  },
  {
   "cell_type": "code",
   "execution_count": 19,
   "id": "01d934b1-62b8-4c74-8daa-6afbe461acdf",
   "metadata": {},
   "outputs": [],
   "source": [
    "x = 25\n",
    "\n",
    "def printer():\n",
    "    x = 50\n",
    "    return x\n",
    "\n",
    "# print(x)\n",
    "# print(printer())"
   ]
  },
  {
   "cell_type": "code",
   "execution_count": 21,
   "id": "4f803e0b-6bba-4a13-bc87-2ffac32cf7ac",
   "metadata": {},
   "outputs": [
    {
     "name": "stdout",
     "output_type": "stream",
     "text": [
      "25\n"
     ]
    }
   ],
   "source": [
    "print(x)"
   ]
  },
  {
   "cell_type": "code",
   "execution_count": 23,
   "id": "69ce6c5b-9d3a-49c9-99fc-74f9340e19a1",
   "metadata": {},
   "outputs": [
    {
     "name": "stdout",
     "output_type": "stream",
     "text": [
      "50\n"
     ]
    }
   ],
   "source": [
    "print(printer())"
   ]
  },
  {
   "cell_type": "markdown",
   "id": "e582faf2-90da-43c9-8044-46b4e61b96d6",
   "metadata": {},
   "source": [
    "How does Python know which x you're referring to in your code? This is where the idea of scope comes in. Python has a set of rules it follows to decide what variables (such as x in this case) you are referencing in your code. Lets break down the rules:\n",
    "\n",
    "This idea of scope in your code is very important to understand in order to properly assign and call variable names.\n",
    "\n",
    "In simple terms, the idea of scope can be described by 3 general rules:\n",
    "\n",
    "<ol>\n",
    "<li>Name assignments will create or change local names by default.</li>\n",
    "<li>Name references search (at most) four scopes, these are:</li>\n",
    "<ul>\n",
    "<li>local</li>\n",
    "<li>enclosing functions</li>\n",
    "<li>global</li>\n",
    "<li>built-in</li>\n",
    "</ul>\n",
    "<li>Names declared in global and nonlocal statements map assigned names to enclosing module and function scopes.</li>\n",
    "</ol>\n",
    "\n",
    "The statement in #2 above can be defined by the LEGB rule.\n",
    "\n",
    "LEGB Rule:\n",
    "\n",
    "L: Local — Names assigned in any way within a function (def or lambda), and not declared global in that function.\n",
    "\n",
    "E: Enclosing function locals — Names in the local scope of any and all enclosing functions (def or lambda), from inner to outer.\n",
    "\n",
    "G: Global (module) — Names assigned at the top-level of a module file, or declared global in a def within the file.\n",
    "\n",
    "B: Built-in (Python) — Names preassigned in the built-in names module : open, range, SyntaxError,...\n",
    "\n",
    "Quick examples of LEGB\n",
    "Local"
   ]
  },
  {
   "cell_type": "markdown",
   "id": "28fbadcf-b436-497d-bdbd-02be3d31a402",
   "metadata": {},
   "source": [
    "## Quick examples of LEGB"
   ]
  },
  {
   "cell_type": "markdown",
   "id": "300c5dfa-e384-4af1-ab36-79331024f551",
   "metadata": {},
   "source": [
    "### Local"
   ]
  },
  {
   "cell_type": "code",
   "execution_count": 30,
   "id": "8162efbb-1586-4a9e-baed-3bd2d4ac3b5f",
   "metadata": {},
   "outputs": [],
   "source": [
    "# x is local here:\n",
    "f = lambda x:x**2"
   ]
  },
  {
   "cell_type": "markdown",
   "id": "5e022aab-3179-4469-b02c-88e09d454464",
   "metadata": {},
   "source": [
    "### Enclosing function locals\n",
    "This occurs when we have a function inside a function (nested functions)"
   ]
  },
  {
   "cell_type": "code",
   "execution_count": 33,
   "id": "4523fc9c-490c-4bbd-a41b-3cce3e1fa1a6",
   "metadata": {},
   "outputs": [
    {
     "name": "stdout",
     "output_type": "stream",
     "text": [
      "Hello Sammy\n"
     ]
    }
   ],
   "source": [
    "name = 'This is a global name'\n",
    "\n",
    "def greet():\n",
    "    # Enclosing function\n",
    "    name = 'Sammy'\n",
    "    \n",
    "    def hello():\n",
    "        print('Hello '+name)\n",
    "    \n",
    "    hello()\n",
    "\n",
    "greet()"
   ]
  },
  {
   "cell_type": "markdown",
   "id": "210d1cee-44a5-424b-9990-2604a57a3785",
   "metadata": {},
   "source": [
    "Note how Sammy was used, because the hello() function was enclosed inside of the greet functio"
   ]
  },
  {
   "cell_type": "markdown",
   "id": "96768cd1-64e0-471f-9033-a88c35ead3ce",
   "metadata": {},
   "source": [
    "### Global"
   ]
  },
  {
   "cell_type": "code",
   "execution_count": 37,
   "id": "cdf8dc6f-70ab-4314-9aaa-d5578ad5e49d",
   "metadata": {},
   "outputs": [
    {
     "name": "stdout",
     "output_type": "stream",
     "text": [
      "This is a global name\n"
     ]
    }
   ],
   "source": [
    "print(name)"
   ]
  },
  {
   "cell_type": "markdown",
   "id": "d93e8177-ee4a-4fd6-b839-c6feb4c5a485",
   "metadata": {},
   "source": [
    "### Built-in"
   ]
  },
  {
   "cell_type": "markdown",
   "id": "b648b247-0184-4d7c-8358-9b380f4d8f39",
   "metadata": {},
   "source": [
    "These are the built-in function names in Python (don't overwrite these!)"
   ]
  },
  {
   "cell_type": "code",
   "execution_count": 41,
   "id": "f0449936-cde7-4951-b9d8-75a6b28d8dc1",
   "metadata": {},
   "outputs": [
    {
     "data": {
      "text/plain": [
       "<function len(obj, /)>"
      ]
     },
     "execution_count": 41,
     "metadata": {},
     "output_type": "execute_result"
    }
   ],
   "source": [
    "len"
   ]
  },
  {
   "cell_type": "markdown",
   "id": "1ea997cc-fe38-4c54-a898-909174beb8e2",
   "metadata": {},
   "source": [
    "## Local Variables\n",
    "When you declare variables inside a function definition, they are not related in any way to other variables with the same names used outside the function - i.e. variable names are local to the function. This is called the scope of the variable. All variables have the scope of the block they are declared in starting from the point of definition of the name."
   ]
  },
  {
   "cell_type": "markdown",
   "id": "3bd804ca-c7bd-4912-9c5d-bb59c225d2e7",
   "metadata": {},
   "source": [
    "Example:"
   ]
  },
  {
   "cell_type": "code",
   "execution_count": 46,
   "id": "084ab5b1-7c3a-4cdb-a906-1ad4c96f2e36",
   "metadata": {},
   "outputs": [
    {
     "name": "stdout",
     "output_type": "stream",
     "text": [
      "x is 50\n",
      "Changed local x to 2\n",
      "x is still 50\n"
     ]
    }
   ],
   "source": [
    "x = 50\n",
    "\n",
    "def func(x):\n",
    "    print('x is', x)\n",
    "    x = 2\n",
    "    print('Changed local x to', x)\n",
    "\n",
    "func(x)\n",
    "print('x is still', x)"
   ]
  },
  {
   "cell_type": "markdown",
   "id": "61aa1b7b-0923-408e-aead-50a2743c0e29",
   "metadata": {},
   "source": [
    "\n",
    "The first time that we print the value of the name x with the first line in the function’s body, Python uses the value of the parameter declared in the main block, above the function definition.\n",
    "\n",
    "Next, we assign the value 2 to x. The name x is local to our function. So, when we change the value of x in the function, the x defined in the main block remains unaffected.\n",
    "\n",
    "With the last print statement, we display the value of x as defined in the main block, thereby confirming that it is actually unaffected by the local assignment within the previously called function."
   ]
  },
  {
   "cell_type": "markdown",
   "id": "393f6271-69db-4d16-93d6-a8f35bcf99f7",
   "metadata": {},
   "source": [
    "## The global statement"
   ]
  },
  {
   "cell_type": "markdown",
   "id": "8300631c-d250-473e-bc84-cc64475bfae4",
   "metadata": {},
   "source": [
    "If you want to assign a value to a name defined at the top level of the program (i.e. not inside any kind of scope such as functions or classes), then you have to tell Python that the name is not local, but it is global. We do this using the global statement. It is impossible to assign a value to a variable defined outside a function without the global statement.\n",
    "\n",
    "You can use the values of such variables defined outside the function (assuming there is no variable with the same name within the function). However, this is not encouraged and should be avoided since it becomes unclear to the reader of the program as to where that variable’s definition is. Using the global statement makes it amply clear that the variable is defined in an outermost block."
   ]
  },
  {
   "cell_type": "code",
   "execution_count": 51,
   "id": "94cd7874-fe5b-4317-8d60-b603c199b34a",
   "metadata": {},
   "outputs": [
    {
     "name": "stdout",
     "output_type": "stream",
     "text": [
      "Before calling func(), x is:  50\n",
      "This function is now using the global x!\n",
      "Because of global x is:  50\n",
      "Ran func(), changed global x to 2\n",
      "Value of x (outside of func()) is:  2\n"
     ]
    }
   ],
   "source": [
    "x = 50\n",
    "\n",
    "def func():\n",
    "    global x\n",
    "    print('This function is now using the global x!')\n",
    "    print('Because of global x is: ', x)\n",
    "    x = 2\n",
    "    print('Ran func(), changed global x to', x)\n",
    "\n",
    "print('Before calling func(), x is: ', x)\n",
    "func()\n",
    "print('Value of x (outside of func()) is: ', x)"
   ]
  },
  {
   "cell_type": "markdown",
   "id": "d067eb3d-dd8a-4a7c-a14c-b4a436d11c3d",
   "metadata": {},
   "source": [
    "The global statement is used to declare that x is a global variable - hence, when we assign a value to x inside the function, that change is reflected when we use the value of x in the main block.\n",
    "\n",
    "You can specify more than one global variable using the same global statement e.g. global x, y, z."
   ]
  },
  {
   "cell_type": "markdown",
   "id": "0ae8ebc2-9915-45af-ae67-44dd5d4d3e88",
   "metadata": {},
   "source": [
    "One last example:"
   ]
  },
  {
   "cell_type": "code",
   "execution_count": 59,
   "id": "afbcb734-6607-4379-9a89-4780e1abf338",
   "metadata": {},
   "outputs": [
    {
     "name": "stdout",
     "output_type": "stream",
     "text": [
      "Newer Name\n"
     ]
    }
   ],
   "source": [
    "# Global\n",
    "name = 'My Name'\n",
    "\n",
    "def greet():\n",
    "    # Enclosing Function Local\n",
    "    name = 'New Name'\n",
    "    def hello():\n",
    "        # Local\n",
    "        name = 'Newer Name'\n",
    "        print(name)\n",
    "    hello()\n",
    "greet()"
   ]
  },
  {
   "cell_type": "markdown",
   "id": "31f40cbf-0aa9-4d3d-89ff-fc9f33322d51",
   "metadata": {},
   "source": [
    "Since name is being called in the hello() function it looks inside that function first which complies with LEGB. However if name was not defined there it would look to the enclosing function local. If the name variable was not defined there then it would look towards the global function for that name variable."
   ]
  }
 ],
 "metadata": {
  "kernelspec": {
   "display_name": "Python 3 (ipykernel)",
   "language": "python",
   "name": "python3"
  },
  "language_info": {
   "codemirror_mode": {
    "name": "ipython",
    "version": 3
   },
   "file_extension": ".py",
   "mimetype": "text/x-python",
   "name": "python",
   "nbconvert_exporter": "python",
   "pygments_lexer": "ipython3",
   "version": "3.11.7"
  }
 },
 "nbformat": 4,
 "nbformat_minor": 5
}

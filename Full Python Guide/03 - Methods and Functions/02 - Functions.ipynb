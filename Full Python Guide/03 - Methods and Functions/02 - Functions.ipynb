{
 "cells": [
  {
   "cell_type": "markdown",
   "id": "8475d938-3201-4305-8ea0-96d66ea14748",
   "metadata": {},
   "source": [
    "# Functions"
   ]
  },
  {
   "cell_type": "markdown",
   "id": "20283135-e6af-4552-986b-22186e991fb3",
   "metadata": {},
   "source": [
    "## What is a function?\n",
    "Formally, a function is a useful device that groups together a set of statements so they can be run more than once. They can also let us specify parameters that can serve as inputs to the functions.\n",
    "\n",
    "On a more fundamental level, functions allow us to not have to repeatedly write the same code again and again."
   ]
  },
  {
   "cell_type": "markdown",
   "id": "fc9ece76-994f-4580-94b2-fc36a6f68189",
   "metadata": {},
   "source": [
    "## Why even use functions?\n",
    "Put simply, you should use functions when you plan on using a block of code multiple times. The function will allow you to call the same block of code without having to write it multiple times. This in turn will allow you to create more complex Python scripts."
   ]
  },
  {
   "cell_type": "markdown",
   "id": "e588605c-db9e-47c0-94a0-5050860d9f02",
   "metadata": {},
   "source": [
    "Function Topics\n",
    "* def keyword\n",
    "* simple example of a function\n",
    "* calling a function with ()\n",
    "* accepting parameters\n",
    "* print versus return\n",
    "* adding in logic inside a function\n",
    "* multiple returns inside a function\n",
    "* adding in loops inside a function\n",
    "* tuple unpacking\n",
    "* interactions between functions"
   ]
  },
  {
   "cell_type": "markdown",
   "id": "0c030a92-25d9-4594-953b-5dce7f30133e",
   "metadata": {},
   "source": [
    "## def keyword"
   ]
  },
  {
   "cell_type": "code",
   "execution_count": 8,
   "id": "c3d8805f-c238-4a8b-aded-da5fd0a0ba07",
   "metadata": {},
   "outputs": [],
   "source": [
    "def name_of_function(arg1,arg2):\n",
    "    '''\n",
    "    This is where the function's Document String (docstring) goes.\n",
    "    When you call help() on your function it will be printed out.\n",
    "    '''\n",
    "    # Do stuff here\n",
    "    # Return desired result"
   ]
  },
  {
   "cell_type": "markdown",
   "id": "b994d357-278c-4bce-93fe-d70abb0fc3a0",
   "metadata": {},
   "source": [
    "## Simple example of a function"
   ]
  },
  {
   "cell_type": "code",
   "execution_count": 11,
   "id": "b7e4695c-e972-4fa6-9c5b-95910724949b",
   "metadata": {},
   "outputs": [],
   "source": [
    "def say_hello():\n",
    "    print('hello')"
   ]
  },
  {
   "cell_type": "markdown",
   "id": "a72eaa7b-4532-493f-93ae-52ba2d9c276b",
   "metadata": {},
   "source": [
    "## Calling a function with ()"
   ]
  },
  {
   "cell_type": "code",
   "execution_count": 14,
   "id": "d1181d7b-495d-465f-a3f1-acbd029a4e10",
   "metadata": {},
   "outputs": [
    {
     "name": "stdout",
     "output_type": "stream",
     "text": [
      "hello\n"
     ]
    }
   ],
   "source": [
    "say_hello()"
   ]
  },
  {
   "cell_type": "markdown",
   "id": "dfed1619-4bb0-4938-8dde-86cca4ebdba9",
   "metadata": {},
   "source": [
    "## If you forget the parenthesis (), it will simply display the fact that say_hello is a function."
   ]
  },
  {
   "cell_type": "code",
   "execution_count": 17,
   "id": "9295586f-151c-467a-b3c9-55ece4d6121b",
   "metadata": {},
   "outputs": [
    {
     "data": {
      "text/plain": [
       "<function __main__.say_hello()>"
      ]
     },
     "execution_count": 17,
     "metadata": {},
     "output_type": "execute_result"
    }
   ],
   "source": [
    "say_hello"
   ]
  },
  {
   "cell_type": "markdown",
   "id": "ede137b5-8a05-4184-9cba-415591bb0b93",
   "metadata": {},
   "source": [
    "## Accepting parameters (arguments)"
   ]
  },
  {
   "cell_type": "code",
   "execution_count": 20,
   "id": "af380740-58e4-4fe7-8655-0c5aa440ab0b",
   "metadata": {},
   "outputs": [],
   "source": [
    "def greeting(name):\n",
    "    print(f'Hello {name}')"
   ]
  },
  {
   "cell_type": "code",
   "execution_count": 22,
   "id": "a0be2878-4679-4a68-ba25-ff7610d93fc6",
   "metadata": {},
   "outputs": [
    {
     "name": "stdout",
     "output_type": "stream",
     "text": [
      "Hello Jose\n"
     ]
    }
   ],
   "source": [
    "greeting('Jose')"
   ]
  },
  {
   "cell_type": "markdown",
   "id": "0bff3b56-4179-420c-af66-f8a93cd02156",
   "metadata": {},
   "source": [
    "You are able to give a default parameter so if user doesn't type in an argument they won't recieve an error."
   ]
  },
  {
   "cell_type": "code",
   "execution_count": 25,
   "id": "a1ede00d-3dad-41e7-adf5-f1c807dc47bc",
   "metadata": {},
   "outputs": [
    {
     "ename": "TypeError",
     "evalue": "greeting() missing 1 required positional argument: 'name'",
     "output_type": "error",
     "traceback": [
      "\u001b[0;31m---------------------------------------------------------------------------\u001b[0m",
      "\u001b[0;31mTypeError\u001b[0m                                 Traceback (most recent call last)",
      "Cell \u001b[0;32mIn[25], line 1\u001b[0m\n\u001b[0;32m----> 1\u001b[0m greeting()\n",
      "\u001b[0;31mTypeError\u001b[0m: greeting() missing 1 required positional argument: 'name'"
     ]
    }
   ],
   "source": [
    "greeting()"
   ]
  },
  {
   "cell_type": "code",
   "execution_count": 27,
   "id": "d917db8b-d500-4ab5-98f6-04f470b1caca",
   "metadata": {},
   "outputs": [
    {
     "name": "stdout",
     "output_type": "stream",
     "text": [
      "Hello Default\n"
     ]
    }
   ],
   "source": [
    "def greeting(name='Default'):\n",
    "    print(f'Hello {name}')\n",
    "greeting()"
   ]
  },
  {
   "cell_type": "markdown",
   "id": "952c7d47-f823-4979-82ca-410df8b616bd",
   "metadata": {},
   "source": [
    "## Using return\n",
    "So far we've only seen print() used, but if we actually want to save the resulting variable we need to use the return keyword."
   ]
  },
  {
   "cell_type": "markdown",
   "id": "2f73e5eb-ed67-46f0-87c7-a9eb05c4f6d0",
   "metadata": {},
   "source": [
    "## Example: Addition function"
   ]
  },
  {
   "cell_type": "code",
   "execution_count": 31,
   "id": "c679427a-b1d2-40c4-88e4-94301e5f93d2",
   "metadata": {},
   "outputs": [],
   "source": [
    "def add_num(num1,num2):\n",
    "    return num1+num2"
   ]
  },
  {
   "cell_type": "code",
   "execution_count": 33,
   "id": "eb54c6a0-af8c-4253-9cc4-71f7f1948c54",
   "metadata": {},
   "outputs": [
    {
     "data": {
      "text/plain": [
       "9"
      ]
     },
     "execution_count": 33,
     "metadata": {},
     "output_type": "execute_result"
    }
   ],
   "source": [
    "add_num(4,5)"
   ]
  },
  {
   "cell_type": "code",
   "execution_count": 35,
   "id": "7ed071d1-83e0-4615-9e73-af99e5da87aa",
   "metadata": {},
   "outputs": [],
   "source": [
    "# Can also save as variable due to return\n",
    "result = add_num(4,5)"
   ]
  },
  {
   "cell_type": "code",
   "execution_count": 37,
   "id": "74fd113f-8b6e-4238-ad05-b3b4f8d16d70",
   "metadata": {},
   "outputs": [
    {
     "name": "stdout",
     "output_type": "stream",
     "text": [
      "9\n"
     ]
    }
   ],
   "source": [
    "print(result)"
   ]
  },
  {
   "cell_type": "markdown",
   "id": "ba392fbc-4f19-4396-89fb-547287bf1553",
   "metadata": {},
   "source": [
    "What happens if we input two strings?"
   ]
  },
  {
   "cell_type": "code",
   "execution_count": 40,
   "id": "c4dab34b-4c78-4759-a33b-88a4fad92f5e",
   "metadata": {},
   "outputs": [
    {
     "data": {
      "text/plain": [
       "'onetwo'"
      ]
     },
     "execution_count": 40,
     "metadata": {},
     "output_type": "execute_result"
    }
   ],
   "source": [
    "add_num('one','two')"
   ]
  },
  {
   "cell_type": "markdown",
   "id": "dcfdfef2-aad5-4ebb-9f96-1c1af570c675",
   "metadata": {},
   "source": [
    "## Very Common Question: \"What is the difference between return and print?\"\n",
    "The return keyword allows you to actually save the result of the output of a function as a variable. The print() function simply displays the output to you, but doesn't save it for future use."
   ]
  },
  {
   "cell_type": "code",
   "execution_count": 43,
   "id": "4419910e-5843-4601-9861-c3be295267e9",
   "metadata": {},
   "outputs": [],
   "source": [
    "def print_result(a,b):\n",
    "    print(a+b)"
   ]
  },
  {
   "cell_type": "code",
   "execution_count": 45,
   "id": "7b8439c0-b326-44e9-92e5-cf326c1fa4f0",
   "metadata": {},
   "outputs": [],
   "source": [
    "def return_result(a,b):\n",
    "    return a+b"
   ]
  },
  {
   "cell_type": "code",
   "execution_count": 47,
   "id": "8dd5232b-8dec-45a0-b6c0-112b7bbbf1a7",
   "metadata": {},
   "outputs": [
    {
     "name": "stdout",
     "output_type": "stream",
     "text": [
      "15\n"
     ]
    }
   ],
   "source": [
    "print_result(10,5)"
   ]
  },
  {
   "cell_type": "code",
   "execution_count": 49,
   "id": "ffb6ed2f-0ce3-4356-a754-7d2162e97a24",
   "metadata": {},
   "outputs": [
    {
     "data": {
      "text/plain": [
       "15"
      ]
     },
     "execution_count": 49,
     "metadata": {},
     "output_type": "execute_result"
    }
   ],
   "source": [
    "# You won't see any output if you run this in a .py script\n",
    "return_result(10,5)"
   ]
  },
  {
   "cell_type": "markdown",
   "id": "193e6e46-031c-4594-a09b-459bc9688f89",
   "metadata": {},
   "source": [
    "But what happens if we actually want to save this result for later use?"
   ]
  },
  {
   "cell_type": "code",
   "execution_count": 53,
   "id": "d8d6899d-aeba-4079-9341-9de7d7bd21bb",
   "metadata": {},
   "outputs": [
    {
     "name": "stdout",
     "output_type": "stream",
     "text": [
      "40\n"
     ]
    }
   ],
   "source": [
    "my_result = print_result(20,20)"
   ]
  },
  {
   "cell_type": "code",
   "execution_count": 55,
   "id": "d441896b-8fe5-4d05-966d-9f7bb582eb13",
   "metadata": {},
   "outputs": [],
   "source": [
    "my_result"
   ]
  },
  {
   "cell_type": "code",
   "execution_count": 57,
   "id": "2ab5ad46-0924-4332-94a6-21f2eecdaf11",
   "metadata": {},
   "outputs": [
    {
     "data": {
      "text/plain": [
       "NoneType"
      ]
     },
     "execution_count": 57,
     "metadata": {},
     "output_type": "execute_result"
    }
   ],
   "source": [
    "type(my_result)"
   ]
  },
  {
   "cell_type": "markdown",
   "id": "2851ff80-e386-4114-bd43-a7f2815214cf",
   "metadata": {},
   "source": [
    "Be careful! Notice how print_result() doesn't let you actually save the result to a variable! It only prints it out, with print() returning None for the assignment!"
   ]
  },
  {
   "cell_type": "code",
   "execution_count": 60,
   "id": "d1df108f-e1ed-416e-863c-a2f11f1c8a0e",
   "metadata": {},
   "outputs": [],
   "source": [
    "my_result = return_result(20,20)"
   ]
  },
  {
   "cell_type": "code",
   "execution_count": 62,
   "id": "443ed995-9a3d-49ce-9873-340acdeef710",
   "metadata": {},
   "outputs": [
    {
     "data": {
      "text/plain": [
       "40"
      ]
     },
     "execution_count": 62,
     "metadata": {},
     "output_type": "execute_result"
    }
   ],
   "source": [
    "my_result"
   ]
  },
  {
   "cell_type": "code",
   "execution_count": 64,
   "id": "1e6b9be8-d81c-40af-8f69-45bb9b48c5bf",
   "metadata": {},
   "outputs": [
    {
     "data": {
      "text/plain": [
       "80"
      ]
     },
     "execution_count": 64,
     "metadata": {},
     "output_type": "execute_result"
    }
   ],
   "source": [
    "my_result + my_result"
   ]
  },
  {
   "cell_type": "markdown",
   "id": "8835bdf5-5049-4a47-b85b-ed4c6ce0e5fc",
   "metadata": {},
   "source": [
    "## Adding Logic to Internal Function Operations"
   ]
  },
  {
   "cell_type": "code",
   "execution_count": 67,
   "id": "2cb43a1b-fd60-44c6-9f22-3a2285d5fcd4",
   "metadata": {},
   "outputs": [],
   "source": [
    "def even_check(number):\n",
    "    return number % 2 == 0"
   ]
  },
  {
   "cell_type": "code",
   "execution_count": 69,
   "id": "f954bff8-5e21-4c0e-a761-77311fd5a561",
   "metadata": {},
   "outputs": [
    {
     "data": {
      "text/plain": [
       "True"
      ]
     },
     "execution_count": 69,
     "metadata": {},
     "output_type": "execute_result"
    }
   ],
   "source": [
    "even_check(20)"
   ]
  },
  {
   "cell_type": "code",
   "execution_count": 71,
   "id": "e9f415d8-a7c5-4448-8ae8-48262659ecca",
   "metadata": {},
   "outputs": [
    {
     "data": {
      "text/plain": [
       "False"
      ]
     },
     "execution_count": 71,
     "metadata": {},
     "output_type": "execute_result"
    }
   ],
   "source": [
    "even_check(21)"
   ]
  },
  {
   "cell_type": "markdown",
   "id": "0bbf5070-0a91-4a97-a0a5-518cab284637",
   "metadata": {},
   "source": [
    "## Check if any number in a list is even"
   ]
  },
  {
   "cell_type": "markdown",
   "id": "0a869755-40c3-42c9-aab4-b31d24bcdba3",
   "metadata": {},
   "source": [
    "Let's return a boolean indicating if any number in a list is even. Notice here how return breaks out of the loop and exits the function"
   ]
  },
  {
   "cell_type": "code",
   "execution_count": 77,
   "id": "d35bd3da-75aa-43cc-a070-0b9a4dec6552",
   "metadata": {},
   "outputs": [],
   "source": [
    "def check_even_list(num_list):\n",
    "    # Go through each number\n",
    "    for number in num_list:\n",
    "        # Once we get a \"hit\" on an even number, we return True\n",
    "        if number % 2 == 0:\n",
    "            return True\n",
    "        # Otherwise we don't do anything\n",
    "        else:\n",
    "            pass"
   ]
  },
  {
   "cell_type": "markdown",
   "id": "3af7ffdb-ad8e-4e36-bd36-285ffa35f2ad",
   "metadata": {},
   "source": [
    "However, we are not returning anything if a number is odd."
   ]
  },
  {
   "cell_type": "code",
   "execution_count": 80,
   "id": "79e30ad7-c63b-434e-8c4a-c5e409990b2b",
   "metadata": {},
   "outputs": [
    {
     "data": {
      "text/plain": [
       "True"
      ]
     },
     "execution_count": 80,
     "metadata": {},
     "output_type": "execute_result"
    }
   ],
   "source": [
    "check_even_list([1,2,3])"
   ]
  },
  {
   "cell_type": "code",
   "execution_count": 82,
   "id": "b8d76c6c-15e8-4ce4-bf04-c44dca2abdc8",
   "metadata": {},
   "outputs": [],
   "source": [
    "check_even_list([1,1,1])"
   ]
  },
  {
   "cell_type": "markdown",
   "id": "3a6ee118-5d69-408b-aca2-2c92812a0b3d",
   "metadata": {},
   "source": [
    "Let us check out a common logic error"
   ]
  },
  {
   "cell_type": "code",
   "execution_count": 87,
   "id": "7ce49223-62a9-48ad-bd91-4b97597c51de",
   "metadata": {},
   "outputs": [],
   "source": [
    "def check_even_list(num_list):\n",
    "    # Go through each number\n",
    "    for number in num_list:\n",
    "        # Once we get a \"hit\" on an even number, we return True\n",
    "        if number % 2 == 0:\n",
    "            return True\n",
    "        # This is WRONG! This returns False at the very first odd number!\n",
    "        # It doesn't end up checking the other numbers in the list!\n",
    "        else:\n",
    "            return False"
   ]
  },
  {
   "cell_type": "code",
   "execution_count": 89,
   "id": "a53f96a9-0d3c-49b5-82b0-74f1a0df3cf1",
   "metadata": {},
   "outputs": [
    {
     "data": {
      "text/plain": [
       "False"
      ]
     },
     "execution_count": 89,
     "metadata": {},
     "output_type": "execute_result"
    }
   ],
   "source": [
    "# UH OH! It is returning False after hitting the first 1\n",
    "check_even_list([1,2,3])"
   ]
  },
  {
   "cell_type": "markdown",
   "id": "193f1a02-435e-4cfd-acf7-da80328047e3",
   "metadata": {},
   "source": [
    "Correct Approach: We need to initiate a return False AFTER running through the entire loop"
   ]
  },
  {
   "cell_type": "code",
   "execution_count": 92,
   "id": "24345838-9f4e-4464-9678-35df238c2f2e",
   "metadata": {},
   "outputs": [],
   "source": [
    "def check_even_list(num_list):\n",
    "    # Go through each number\n",
    "    for number in num_list:\n",
    "        # Once we get a \"hit\" on an even number, we return True\n",
    "        if number % 2 == 0:\n",
    "            return True\n",
    "        # Don't do anything if its not even\n",
    "        else:\n",
    "            pass\n",
    "    # Notice the indentation! This ensures we run through the entire for loop    \n",
    "    return False"
   ]
  },
  {
   "cell_type": "code",
   "execution_count": 94,
   "id": "255becf8-8ebe-442e-a4e6-cb7f7f473135",
   "metadata": {},
   "outputs": [
    {
     "data": {
      "text/plain": [
       "True"
      ]
     },
     "execution_count": 94,
     "metadata": {},
     "output_type": "execute_result"
    }
   ],
   "source": [
    "check_even_list([1,2,3])"
   ]
  },
  {
   "cell_type": "code",
   "execution_count": 96,
   "id": "1c6c26fb-312b-4994-8878-9b5c56120f5e",
   "metadata": {},
   "outputs": [
    {
     "data": {
      "text/plain": [
       "False"
      ]
     },
     "execution_count": 96,
     "metadata": {},
     "output_type": "execute_result"
    }
   ],
   "source": [
    "check_even_list([1,3,5])"
   ]
  },
  {
   "cell_type": "markdown",
   "id": "47524450-b00b-4db5-a9b2-b7a18383e5c4",
   "metadata": {},
   "source": [
    "## Return all even numbers in a list"
   ]
  },
  {
   "cell_type": "code",
   "execution_count": 99,
   "id": "abc0bb62-3b3c-4d99-b08a-98a59ce5a596",
   "metadata": {},
   "outputs": [],
   "source": [
    "def check_even_list(num_list):\n",
    "    \n",
    "    even_numbers = []\n",
    "    \n",
    "    # Go through each number\n",
    "    for number in num_list:\n",
    "        # Once we get a \"hit\" on an even number, we append the even number\n",
    "        if number % 2 == 0:\n",
    "            even_numbers.append(number)\n",
    "        # Don't do anything if its not even\n",
    "        else:\n",
    "            pass\n",
    "    # Notice the indentation! This ensures we run through the entire for loop    \n",
    "    return even_numbers"
   ]
  },
  {
   "cell_type": "code",
   "execution_count": 101,
   "id": "873b8def-3db7-4bb0-bc5a-55a5b617c8a4",
   "metadata": {},
   "outputs": [
    {
     "data": {
      "text/plain": [
       "[2, 4, 6]"
      ]
     },
     "execution_count": 101,
     "metadata": {},
     "output_type": "execute_result"
    }
   ],
   "source": [
    "check_even_list([1,2,3,4,5,6])"
   ]
  },
  {
   "cell_type": "code",
   "execution_count": 103,
   "id": "aa96c748-effb-42a5-a4cd-bd501a8d8c1d",
   "metadata": {},
   "outputs": [
    {
     "data": {
      "text/plain": [
       "[]"
      ]
     },
     "execution_count": 103,
     "metadata": {},
     "output_type": "execute_result"
    }
   ],
   "source": [
    "check_even_list([1,3,5])"
   ]
  },
  {
   "cell_type": "markdown",
   "id": "e89f666c-d824-4c1f-8fbc-03cb2ee3a7d0",
   "metadata": {},
   "source": [
    "## Returning Tuples for Unpacking"
   ]
  },
  {
   "cell_type": "code",
   "execution_count": 106,
   "id": "a21cf21c-e924-4864-acff-48291eee10dd",
   "metadata": {},
   "outputs": [],
   "source": [
    "stock_prices = [('AAPL',200),('GOOG',300),('MSFT',400)]"
   ]
  },
  {
   "cell_type": "code",
   "execution_count": 108,
   "id": "e7689a8a-f7b3-48f4-b79a-8f968f25a69b",
   "metadata": {},
   "outputs": [
    {
     "name": "stdout",
     "output_type": "stream",
     "text": [
      "('AAPL', 200)\n",
      "('GOOG', 300)\n",
      "('MSFT', 400)\n"
     ]
    }
   ],
   "source": [
    "for item in stock_prices:\n",
    "    print(item)"
   ]
  },
  {
   "cell_type": "code",
   "execution_count": 110,
   "id": "fe94a4c1-8151-4f96-8097-a42e15468128",
   "metadata": {},
   "outputs": [
    {
     "name": "stdout",
     "output_type": "stream",
     "text": [
      "AAPL\n",
      "GOOG\n",
      "MSFT\n"
     ]
    }
   ],
   "source": [
    "for stock,price in stock_prices:\n",
    "    print(stock)"
   ]
  },
  {
   "cell_type": "code",
   "execution_count": 112,
   "id": "e395adf4-13d3-4589-900a-da873e2265b7",
   "metadata": {},
   "outputs": [
    {
     "name": "stdout",
     "output_type": "stream",
     "text": [
      "200\n",
      "300\n",
      "400\n"
     ]
    }
   ],
   "source": [
    "for stock,price in stock_prices:\n",
    "    print(price)"
   ]
  },
  {
   "cell_type": "markdown",
   "id": "117378f2-7315-4135-946a-ce0e4bd2a9c4",
   "metadata": {},
   "source": [
    "## Similarly, functions often return tuples, to easily return multiple results for later use."
   ]
  },
  {
   "cell_type": "code",
   "execution_count": 115,
   "id": "dedbae7c-0042-4134-8fae-c9717b7ee7eb",
   "metadata": {},
   "outputs": [],
   "source": [
    "work_hours = [('Abby',100),('Billy',400),('Cassie',800)]"
   ]
  },
  {
   "cell_type": "code",
   "execution_count": 117,
   "id": "f39fe1dd-84ca-4846-9469-1ae7f33a356f",
   "metadata": {},
   "outputs": [],
   "source": [
    "def employee_check(work_hours):\n",
    "    \n",
    "    # Set some max value to intially beat, like zero hours\n",
    "    current_max = 0\n",
    "    # Set some empty value before the loop\n",
    "    employee_of_month = ''\n",
    "    \n",
    "    for employee,hours in work_hours:\n",
    "        if hours > current_max:\n",
    "            current_max = hours\n",
    "            employee_of_month = employee\n",
    "        else:\n",
    "            pass\n",
    "    \n",
    "    # Notice the indentation here\n",
    "    return (employee_of_month,current_max)"
   ]
  },
  {
   "cell_type": "code",
   "execution_count": 119,
   "id": "4fa0f703-f3e5-42b5-826e-a8253b754ead",
   "metadata": {},
   "outputs": [
    {
     "data": {
      "text/plain": [
       "('Cassie', 800)"
      ]
     },
     "execution_count": 119,
     "metadata": {},
     "output_type": "execute_result"
    }
   ],
   "source": [
    "employee_check(work_hours)"
   ]
  },
  {
   "cell_type": "code",
   "execution_count": 121,
   "id": "fee91099-5940-41d0-9bed-c08feb67369b",
   "metadata": {},
   "outputs": [],
   "source": [
    "result = employee_check(work_hours)"
   ]
  },
  {
   "cell_type": "code",
   "execution_count": 123,
   "id": "dba1a684-84d1-4fcf-83c9-50fcacfddb3d",
   "metadata": {},
   "outputs": [
    {
     "name": "stdout",
     "output_type": "stream",
     "text": [
      "('Cassie', 800)\n"
     ]
    }
   ],
   "source": [
    "print(result)"
   ]
  },
  {
   "cell_type": "code",
   "execution_count": 125,
   "id": "6895f715-56a0-452c-9483-373c0f7e9a90",
   "metadata": {},
   "outputs": [
    {
     "data": {
      "text/plain": [
       "tuple"
      ]
     },
     "execution_count": 125,
     "metadata": {},
     "output_type": "execute_result"
    }
   ],
   "source": [
    "type(result)"
   ]
  },
  {
   "cell_type": "code",
   "execution_count": 127,
   "id": "711f9f45-90ee-4e07-94ff-e138dea92756",
   "metadata": {},
   "outputs": [],
   "source": [
    "name, hours = result"
   ]
  },
  {
   "cell_type": "code",
   "execution_count": 129,
   "id": "8147f993-5f40-4d7d-aa92-d2c64eb8ac7e",
   "metadata": {},
   "outputs": [
    {
     "data": {
      "text/plain": [
       "'Cassie'"
      ]
     },
     "execution_count": 129,
     "metadata": {},
     "output_type": "execute_result"
    }
   ],
   "source": [
    "name"
   ]
  },
  {
   "cell_type": "code",
   "execution_count": 133,
   "id": "6f81b735-4b40-4d1a-90fb-15c8987dc480",
   "metadata": {},
   "outputs": [
    {
     "data": {
      "text/plain": [
       "800"
      ]
     },
     "execution_count": 133,
     "metadata": {},
     "output_type": "execute_result"
    }
   ],
   "source": [
    "hours"
   ]
  },
  {
   "cell_type": "markdown",
   "id": "deb8941d-9422-42ab-8524-e446fab91783",
   "metadata": {},
   "source": [
    "## Interactions between functions\n",
    "Functions often use results from other functions, let's see a simple example through a guessing game. There will be 3 positions in the list, one of which is an 'O', a function will shuffle the list, another will take a player's guess, and finally another will check to see if it is correct. This is based on the classic carnival game of guessing which cup a red ball is under."
   ]
  },
  {
   "cell_type": "markdown",
   "id": "984122b9-0604-4a86-8fa9-17433a43e909",
   "metadata": {},
   "source": [
    "<strong>How to shuffle a list in Python</strong>"
   ]
  },
  {
   "cell_type": "code",
   "execution_count": 5,
   "id": "6176bb3f-68a5-428e-91db-2a52ea779409",
   "metadata": {},
   "outputs": [],
   "source": [
    "example = [1,2,3,4,5]"
   ]
  },
  {
   "cell_type": "code",
   "execution_count": 7,
   "id": "27f89586-5949-4152-acf3-31026a43cddb",
   "metadata": {},
   "outputs": [],
   "source": [
    "from random import shuffle"
   ]
  },
  {
   "cell_type": "code",
   "execution_count": 9,
   "id": "6b1c3cad-227d-432c-b740-3e307dec2f76",
   "metadata": {},
   "outputs": [],
   "source": [
    "# Note shuffle is in-place\n",
    "shuffle(example)"
   ]
  },
  {
   "cell_type": "code",
   "execution_count": 11,
   "id": "d3f76ae0-494a-4a14-8845-e884e7160fda",
   "metadata": {},
   "outputs": [
    {
     "data": {
      "text/plain": [
       "[2, 4, 5, 1, 3]"
      ]
     },
     "execution_count": 11,
     "metadata": {},
     "output_type": "execute_result"
    }
   ],
   "source": [
    "example"
   ]
  },
  {
   "cell_type": "markdown",
   "id": "4d156fea-b3ae-48b6-a3bd-66011112e2db",
   "metadata": {},
   "source": [
    "Let's create our simple game"
   ]
  },
  {
   "cell_type": "code",
   "execution_count": 14,
   "id": "f288df43-f977-4a7b-bf5b-459a0fbb152d",
   "metadata": {},
   "outputs": [],
   "source": [
    "mylist = [' ','O',' ']"
   ]
  },
  {
   "cell_type": "code",
   "execution_count": 16,
   "id": "15d66ad0-f275-4314-9461-b039fb72d9b9",
   "metadata": {},
   "outputs": [],
   "source": [
    "def shuffle_list(mylist):\n",
    "    # Take in list, and returned shuffle versioned\n",
    "    shuffle(mylist)\n",
    "    \n",
    "    return mylist"
   ]
  },
  {
   "cell_type": "code",
   "execution_count": 18,
   "id": "03243738-be80-449e-aa70-800206f44101",
   "metadata": {},
   "outputs": [
    {
     "data": {
      "text/plain": [
       "[' ', 'O', ' ']"
      ]
     },
     "execution_count": 18,
     "metadata": {},
     "output_type": "execute_result"
    }
   ],
   "source": [
    "mylist "
   ]
  },
  {
   "cell_type": "code",
   "execution_count": 20,
   "id": "535f57b0-9268-470c-b477-259dae0b2e5d",
   "metadata": {},
   "outputs": [
    {
     "data": {
      "text/plain": [
       "['O', ' ', ' ']"
      ]
     },
     "execution_count": 20,
     "metadata": {},
     "output_type": "execute_result"
    }
   ],
   "source": [
    "shuffle_list(mylist)"
   ]
  },
  {
   "cell_type": "code",
   "execution_count": 22,
   "id": "5d2c4bcd-fc89-43ca-bba2-eef5574909e1",
   "metadata": {},
   "outputs": [],
   "source": [
    "# take in user's guess input\n",
    "def player_guess():\n",
    "    \n",
    "    guess = ''\n",
    "    \n",
    "    while guess not in ['0','1','2']:\n",
    "        \n",
    "        # Recall input() returns a string\n",
    "        guess = input(\"Pick a number: 0, 1, or 2:  \")\n",
    "    \n",
    "    return int(guess)    "
   ]
  },
  {
   "cell_type": "code",
   "execution_count": 24,
   "id": "4cf0f4f2-e0ae-496e-b266-24db06c46072",
   "metadata": {},
   "outputs": [
    {
     "name": "stdin",
     "output_type": "stream",
     "text": [
      "Pick a number: 0, 1, or 2:   1\n"
     ]
    },
    {
     "data": {
      "text/plain": [
       "1"
      ]
     },
     "execution_count": 24,
     "metadata": {},
     "output_type": "execute_result"
    }
   ],
   "source": [
    "player_guess()"
   ]
  },
  {
   "cell_type": "markdown",
   "id": "776f9f64-1f7a-4230-9c72-e2da15df78ab",
   "metadata": {},
   "source": [
    "Now check the user's guess against the shuffled list. Notice we only print here, since we have no need to save a user's guess or the shuffled list."
   ]
  },
  {
   "cell_type": "code",
   "execution_count": 27,
   "id": "da607698-95d6-42c4-82b8-7ac5add165fe",
   "metadata": {},
   "outputs": [],
   "source": [
    "def check_guess(mylist,guess):\n",
    "    if mylist[guess] == 'O':\n",
    "        print('Correct Guess!')\n",
    "    else:\n",
    "        print('Wrong! Better luck next time')\n",
    "        print(mylist)"
   ]
  },
  {
   "cell_type": "code",
   "execution_count": 29,
   "id": "115830d9-0546-446c-8baf-55a83c3517f6",
   "metadata": {},
   "outputs": [
    {
     "name": "stdin",
     "output_type": "stream",
     "text": [
      "Pick a number: 0, 1, or 2:   1\n"
     ]
    },
    {
     "name": "stdout",
     "output_type": "stream",
     "text": [
      "Correct Guess!\n"
     ]
    }
   ],
   "source": [
    "# Initial List\n",
    "mylist = [' ','O',' ']\n",
    "\n",
    "# Shuffle It\n",
    "mixedup_list = shuffle_list(mylist)\n",
    "\n",
    "# Get User's Guess\n",
    "guess = player_guess()\n",
    "\n",
    "# Check User's Guess\n",
    "#------------------------\n",
    "# Notice how this function takes in the input \n",
    "# based on the output of other functions!\n",
    "check_guess(mixedup_list,guess)"
   ]
  }
 ],
 "metadata": {
  "kernelspec": {
   "display_name": "Python 3 (ipykernel)",
   "language": "python",
   "name": "python3"
  },
  "language_info": {
   "codemirror_mode": {
    "name": "ipython",
    "version": 3
   },
   "file_extension": ".py",
   "mimetype": "text/x-python",
   "name": "python",
   "nbconvert_exporter": "python",
   "pygments_lexer": "ipython3",
   "version": "3.11.7"
  }
 },
 "nbformat": 4,
 "nbformat_minor": 5
}

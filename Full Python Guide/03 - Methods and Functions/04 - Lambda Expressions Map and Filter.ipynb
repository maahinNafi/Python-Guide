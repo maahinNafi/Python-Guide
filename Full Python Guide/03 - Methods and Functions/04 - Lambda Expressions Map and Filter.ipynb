{
 "cells": [
  {
   "cell_type": "markdown",
   "id": "e7f1c5e6-c6bc-4563-856b-ce7ec1b50875",
   "metadata": {},
   "source": [
    "# Lambda Expressions, Map, and Filter"
   ]
  },
  {
   "cell_type": "markdown",
   "id": "52a62230-e43f-4672-90c4-2aa2aa6e2efb",
   "metadata": {},
   "source": [
    "## map function\n",
    "The map function allows you to \"map\" a function to an iterable object. That is to say you can quickly call the same function to every item in an iterable, such as a list."
   ]
  },
  {
   "cell_type": "code",
   "execution_count": 1,
   "id": "e09d46da-e702-40e9-b357-9c87f389156c",
   "metadata": {},
   "outputs": [],
   "source": [
    "def square(num):\n",
    "    return num**2"
   ]
  },
  {
   "cell_type": "code",
   "execution_count": 3,
   "id": "bd56b1e8-0a24-4c59-9932-d33088e8e6f0",
   "metadata": {},
   "outputs": [],
   "source": [
    "my_nums = [1,2,3,4,5]"
   ]
  },
  {
   "cell_type": "code",
   "execution_count": 5,
   "id": "c7d4871b-c20b-404f-927b-f8b7ef0c4b76",
   "metadata": {},
   "outputs": [
    {
     "data": {
      "text/plain": [
       "<map at 0x10f419240>"
      ]
     },
     "execution_count": 5,
     "metadata": {},
     "output_type": "execute_result"
    }
   ],
   "source": [
    "map(square,my_nums)"
   ]
  },
  {
   "cell_type": "code",
   "execution_count": 7,
   "id": "7f6e47a9-de71-42aa-ae26-0c01743cb48f",
   "metadata": {},
   "outputs": [
    {
     "data": {
      "text/plain": [
       "[1, 4, 9, 16, 25]"
      ]
     },
     "execution_count": 7,
     "metadata": {},
     "output_type": "execute_result"
    }
   ],
   "source": [
    "# To get the results, either iterate through map() \n",
    "# or just cast to a list\n",
    "list(map(square,my_nums))"
   ]
  },
  {
   "cell_type": "markdown",
   "id": "7340e1a5-c176-48b5-a1a8-65a93ee7bbd0",
   "metadata": {},
   "source": [
    "The functions can also be more complex"
   ]
  },
  {
   "cell_type": "code",
   "execution_count": 10,
   "id": "70d5d2a1-88f5-4160-baa6-f9d4905f6a2a",
   "metadata": {},
   "outputs": [],
   "source": [
    "def splicer(mystring):\n",
    "    if len(mystring) % 2 == 0:\n",
    "        return 'even'\n",
    "    else:\n",
    "        return mystring[0]"
   ]
  },
  {
   "cell_type": "code",
   "execution_count": 12,
   "id": "960489e1-292a-409c-8325-99a67c9bd213",
   "metadata": {},
   "outputs": [],
   "source": [
    "mynames = ['John','Cindy','Sarah','Kelly','Mike']"
   ]
  },
  {
   "cell_type": "code",
   "execution_count": 14,
   "id": "09755341-db94-4ebc-aa16-824e08838f14",
   "metadata": {},
   "outputs": [
    {
     "data": {
      "text/plain": [
       "['even', 'C', 'S', 'K', 'even']"
      ]
     },
     "execution_count": 14,
     "metadata": {},
     "output_type": "execute_result"
    }
   ],
   "source": [
    "list(map(splicer,mynames))"
   ]
  },
  {
   "cell_type": "markdown",
   "id": "3e8d572c-823a-4061-a116-370522147dcb",
   "metadata": {},
   "source": [
    "## filter function\n",
    "The filter function returns an iterator yielding those items of iterable for which function(item) is true. Meaning you need to filter by a function that returns either True or False. Then passing that into filter (along with your iterable) and you will get back only the results that would return True when passed to the function."
   ]
  },
  {
   "cell_type": "code",
   "execution_count": 17,
   "id": "d46fa485-f3de-4213-bee8-1c13ed768b43",
   "metadata": {},
   "outputs": [],
   "source": [
    "def check_even(num):\n",
    "    return num % 2 == 0 "
   ]
  },
  {
   "cell_type": "code",
   "execution_count": 19,
   "id": "0828395f-5530-4b11-80d4-45fa553e1b22",
   "metadata": {},
   "outputs": [],
   "source": [
    "nums = [0,1,2,3,4,5,6,7,8,9,10]"
   ]
  },
  {
   "cell_type": "code",
   "execution_count": 21,
   "id": "add6edf5-4919-40de-bf89-e59d1edcdbc5",
   "metadata": {},
   "outputs": [
    {
     "data": {
      "text/plain": [
       "<filter at 0x10f4050c0>"
      ]
     },
     "execution_count": 21,
     "metadata": {},
     "output_type": "execute_result"
    }
   ],
   "source": [
    "filter(check_even,nums)"
   ]
  },
  {
   "cell_type": "code",
   "execution_count": 23,
   "id": "8a693543-f028-40e4-9605-9abbdb7e5fb3",
   "metadata": {},
   "outputs": [
    {
     "data": {
      "text/plain": [
       "[0, 2, 4, 6, 8, 10]"
      ]
     },
     "execution_count": 23,
     "metadata": {},
     "output_type": "execute_result"
    }
   ],
   "source": [
    "list(filter(check_even,nums))"
   ]
  },
  {
   "cell_type": "markdown",
   "id": "471cac38-3d06-43fe-9076-019acb6c374c",
   "metadata": {},
   "source": [
    "## lambda expression\n",
    "One of Pythons most useful tools is the lambda expression. lambda expressions allow us to create \"anonymous\" functions. This basically means we can quickly make ad-hoc functions without needing to properly define a function using def.\n",
    "\n",
    "Function objects returned by running lambda expressions work exactly the same as those created and assigned by defs. There is key difference that makes lambda useful in specialized roles:"
   ]
  },
  {
   "cell_type": "markdown",
   "id": "ab12807b-5b6e-48d5-8d12-1bc099178bb5",
   "metadata": {},
   "source": [
    "<strong>lambda's body is a single expression, not a block of statements.</strong>\n",
    "\n",
    "* The lambda's body is similar to what we would put in a def body's return statement. We simply type the result as an expression instead of explicitly returning it. Because it is limited to an expression, a lambda is less general that a def. We can only squeeze design, to limit program nesting. lambda is designed for coding simple functions, and def handles the larger tasks.<br></br>\n",
    "Lets slowly break down a lambda expression by deconstructing a function:"
   ]
  },
  {
   "cell_type": "code",
   "execution_count": 27,
   "id": "f8b53ee0-282a-403e-9ad3-43ac3692e34a",
   "metadata": {},
   "outputs": [],
   "source": [
    "def square(num):\n",
    "    result = num**2\n",
    "    return result"
   ]
  },
  {
   "cell_type": "code",
   "execution_count": 29,
   "id": "654801e7-b778-4967-a8a5-f345cee00899",
   "metadata": {},
   "outputs": [
    {
     "data": {
      "text/plain": [
       "4"
      ]
     },
     "execution_count": 29,
     "metadata": {},
     "output_type": "execute_result"
    }
   ],
   "source": [
    "square(2)"
   ]
  },
  {
   "cell_type": "markdown",
   "id": "8fabce4d-1682-417b-a3e3-3a566ba68f7a",
   "metadata": {},
   "source": [
    "We could simplify it:"
   ]
  },
  {
   "cell_type": "code",
   "execution_count": 32,
   "id": "eb76bc50-6a57-4b35-9c13-5ded348304fc",
   "metadata": {},
   "outputs": [],
   "source": [
    "def square(num):\n",
    "    return num**2"
   ]
  },
  {
   "cell_type": "code",
   "execution_count": 34,
   "id": "ab52ad4e-2793-4bfa-a01d-77a0b07dbb5c",
   "metadata": {},
   "outputs": [
    {
     "data": {
      "text/plain": [
       "4"
      ]
     },
     "execution_count": 34,
     "metadata": {},
     "output_type": "execute_result"
    }
   ],
   "source": [
    "square(2)"
   ]
  },
  {
   "cell_type": "markdown",
   "id": "fe0d342c-c3f6-4dbb-be0e-0bd1893a3a89",
   "metadata": {},
   "source": [
    "We could actually even write this all on one line."
   ]
  },
  {
   "cell_type": "code",
   "execution_count": 37,
   "id": "a5864ac4-6ac8-41d7-a10d-ee722f805bb4",
   "metadata": {},
   "outputs": [],
   "source": [
    "def square(num): return num**2"
   ]
  },
  {
   "cell_type": "code",
   "execution_count": 39,
   "id": "8923e88b-be39-4713-83df-848b1e4d869f",
   "metadata": {},
   "outputs": [
    {
     "data": {
      "text/plain": [
       "4"
      ]
     },
     "execution_count": 39,
     "metadata": {},
     "output_type": "execute_result"
    }
   ],
   "source": [
    "square(2)"
   ]
  },
  {
   "cell_type": "markdown",
   "id": "6260cc5e-ec05-4048-bde2-213ca7816e99",
   "metadata": {},
   "source": [
    "This is the form a function that a lambda expression intends to replicate. A lambda expression can then be written as:"
   ]
  },
  {
   "cell_type": "code",
   "execution_count": 42,
   "id": "19c228e2-11d1-4c77-a418-397e6f121257",
   "metadata": {},
   "outputs": [
    {
     "data": {
      "text/plain": [
       "<function __main__.<lambda>(num)>"
      ]
     },
     "execution_count": 42,
     "metadata": {},
     "output_type": "execute_result"
    }
   ],
   "source": [
    "lambda num: num ** 2"
   ]
  },
  {
   "cell_type": "code",
   "execution_count": 44,
   "id": "df8c1997-fa31-437e-93d9-9b1c543ef29c",
   "metadata": {},
   "outputs": [],
   "source": [
    "# You wouldn't usually assign a name to a lambda expression, this is just for demonstration!\n",
    "square = lambda num: num **2"
   ]
  },
  {
   "cell_type": "code",
   "execution_count": 46,
   "id": "b1665fcc-87a1-4d4e-bf88-a085651778b4",
   "metadata": {},
   "outputs": [
    {
     "data": {
      "text/plain": [
       "4"
      ]
     },
     "execution_count": 46,
     "metadata": {},
     "output_type": "execute_result"
    }
   ],
   "source": [
    "square(2)"
   ]
  },
  {
   "cell_type": "markdown",
   "id": "71b09483-d889-4a7e-a7ea-85c4b7f14c38",
   "metadata": {},
   "source": [
    "So why would use this? Many function calls need a function passed in, such as map and filter. Often you only need to use the function you are passing in once, so instead of formally defining it, you just use the lambda expression. Let's repeat some of the examples from above with a lambda expression"
   ]
  },
  {
   "cell_type": "code",
   "execution_count": 49,
   "id": "e750abd6-a88e-4b7d-8c9b-e5e93558eeed",
   "metadata": {},
   "outputs": [
    {
     "data": {
      "text/plain": [
       "[1, 4, 9, 16, 25]"
      ]
     },
     "execution_count": 49,
     "metadata": {},
     "output_type": "execute_result"
    }
   ],
   "source": [
    "list(map(lambda num: num ** 2, my_nums))"
   ]
  },
  {
   "cell_type": "code",
   "execution_count": 51,
   "id": "b551f5e5-bb3e-408b-b9aa-79f5fa088fef",
   "metadata": {},
   "outputs": [
    {
     "data": {
      "text/plain": [
       "[0, 2, 4, 6, 8, 10]"
      ]
     },
     "execution_count": 51,
     "metadata": {},
     "output_type": "execute_result"
    }
   ],
   "source": [
    "list(filter(lambda n: n % 2 == 0,nums))"
   ]
  },
  {
   "cell_type": "markdown",
   "id": "c9a5fedf-f2fa-4f37-b791-208b37095e68",
   "metadata": {},
   "source": [
    "Lambda expression for grabbing the first character of a string:"
   ]
  },
  {
   "cell_type": "code",
   "execution_count": 54,
   "id": "b9c454ee-f5ea-42b8-8b59-513ef9409fa5",
   "metadata": {},
   "outputs": [
    {
     "data": {
      "text/plain": [
       "['A', 'J', 'T']"
      ]
     },
     "execution_count": 54,
     "metadata": {},
     "output_type": "execute_result"
    }
   ],
   "source": [
    "names = ['Amy', 'John', 'Tyler']\n",
    "list(map(lambda firstname:firstname[0], names))"
   ]
  },
  {
   "cell_type": "markdown",
   "id": "a5f49264-2db7-47c3-811c-8c2709c3c972",
   "metadata": {},
   "source": [
    "Lambda expression for reversing a string:"
   ]
  },
  {
   "cell_type": "code",
   "execution_count": 57,
   "id": "144de9fa-7dad-4e07-bbaa-37aac5c00834",
   "metadata": {},
   "outputs": [
    {
     "data": {
      "text/plain": [
       "['ymA', 'nhoJ', 'relyT']"
      ]
     },
     "execution_count": 57,
     "metadata": {},
     "output_type": "execute_result"
    }
   ],
   "source": [
    "names = ['Amy', 'John', 'Tyler']\n",
    "list(map(lambda firstname:firstname[::-1], names))"
   ]
  },
  {
   "cell_type": "markdown",
   "id": "1438d35b-a4c9-4031-8b98-fa714ba51ccd",
   "metadata": {},
   "source": [
    "You can even pass in multiple arguments into a lambda expression. "
   ]
  },
  {
   "cell_type": "code",
   "execution_count": 62,
   "id": "d5b3f53e-a98e-4506-a746-18b55daedcdd",
   "metadata": {},
   "outputs": [
    {
     "data": {
      "text/plain": [
       "[4, 6, 8]"
      ]
     },
     "execution_count": 62,
     "metadata": {},
     "output_type": "execute_result"
    }
   ],
   "source": [
    "list1 = [1,2,3]\n",
    "list2 = [3,4,5]\n",
    "list(map(lambda x,y: x+y,list1,list2))"
   ]
  }
 ],
 "metadata": {
  "kernelspec": {
   "display_name": "Python 3 (ipykernel)",
   "language": "python",
   "name": "python3"
  },
  "language_info": {
   "codemirror_mode": {
    "name": "ipython",
    "version": 3
   },
   "file_extension": ".py",
   "mimetype": "text/x-python",
   "name": "python",
   "nbconvert_exporter": "python",
   "pygments_lexer": "ipython3",
   "version": "3.11.7"
  }
 },
 "nbformat": 4,
 "nbformat_minor": 5
}

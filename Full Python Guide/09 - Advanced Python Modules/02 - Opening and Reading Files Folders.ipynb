{
 "cells": [
  {
   "cell_type": "markdown",
   "id": "b47355d3-2a07-43da-9e1a-5c973c06e852",
   "metadata": {},
   "source": [
    "# Opening and Reading Files"
   ]
  },
  {
   "cell_type": "markdown",
   "id": "be31a83a-bc32-4425-933c-8d627f9d717f",
   "metadata": {},
   "source": [
    "## Review: Understanding File Paths"
   ]
  },
  {
   "cell_type": "code",
   "execution_count": 3,
   "id": "a2be9a31-bd6d-42ba-97ff-bdae4829b9a6",
   "metadata": {},
   "outputs": [
    {
     "data": {
      "text/plain": [
       "'/Users/maahinnafi/Desktop/Full Python Guide/09 - Advanced Python Modules'"
      ]
     },
     "execution_count": 3,
     "metadata": {},
     "output_type": "execute_result"
    }
   ],
   "source": [
    "pwd"
   ]
  },
  {
   "cell_type": "markdown",
   "id": "65a1aca4-2451-4667-b7de-de8a72154f36",
   "metadata": {},
   "source": [
    "### Create Practice File"
   ]
  },
  {
   "cell_type": "code",
   "execution_count": 9,
   "id": "e85e9e3c-36f3-4aac-b4d0-c7798edff53f",
   "metadata": {},
   "outputs": [],
   "source": [
    "f = open('practice.txt','w+')"
   ]
  },
  {
   "cell_type": "code",
   "execution_count": 11,
   "id": "f396610d-6945-49fa-b86e-50d288cefd47",
   "metadata": {},
   "outputs": [],
   "source": [
    "f.write('test')\n",
    "f.close()"
   ]
  },
  {
   "cell_type": "markdown",
   "id": "0eb398fd-6807-47c8-8ae9-2e9524a44e6d",
   "metadata": {},
   "source": [
    "## Getting Directories"
   ]
  },
  {
   "cell_type": "markdown",
   "id": "1d49ae0e-7e7d-4305-8293-999e4f716c6f",
   "metadata": {},
   "source": [
    "Python has a built-in os module that allows us to use operating system dependent functionality."
   ]
  },
  {
   "cell_type": "code",
   "execution_count": 15,
   "id": "2532bed1-98f1-4aae-89d3-56efa1825c11",
   "metadata": {},
   "outputs": [],
   "source": [
    "import os"
   ]
  },
  {
   "cell_type": "code",
   "execution_count": 17,
   "id": "93c531fc-a3d1-468b-80fe-30b4f62338bc",
   "metadata": {},
   "outputs": [
    {
     "data": {
      "text/plain": [
       "'/Users/maahinnafi/Desktop/Full Python Guide/09 - Advanced Python Modules'"
      ]
     },
     "execution_count": 17,
     "metadata": {},
     "output_type": "execute_result"
    }
   ],
   "source": [
    "os.getcwd()"
   ]
  },
  {
   "cell_type": "markdown",
   "id": "fd7cba64-a173-4d0a-b6b9-5075e8aedcbc",
   "metadata": {},
   "source": [
    "## Listing Files in a Directory"
   ]
  },
  {
   "cell_type": "code",
   "execution_count": 20,
   "id": "82401286-6b57-45df-832f-16fb4e6a0001",
   "metadata": {},
   "outputs": [
    {
     "data": {
      "text/plain": [
       "['practice.txt',\n",
       " '02 - Opening and Reading Files Folders.ipynb',\n",
       " '01 - Collections Module.ipynb',\n",
       " '.ipynb_checkpoints']"
      ]
     },
     "execution_count": 20,
     "metadata": {},
     "output_type": "execute_result"
    }
   ],
   "source": [
    "# In your current directory\n",
    "os.listdir()"
   ]
  },
  {
   "cell_type": "code",
   "execution_count": 24,
   "id": "30746065-738f-420f-b95c-906b90c0c01b",
   "metadata": {},
   "outputs": [
    {
     "data": {
      "text/plain": [
       "['.localized', 'maahinnafi', 'Shared']"
      ]
     },
     "execution_count": 24,
     "metadata": {},
     "output_type": "execute_result"
    }
   ],
   "source": [
    "# In any directory you pass\n",
    "os.listdir(\"/Users/\")"
   ]
  },
  {
   "cell_type": "markdown",
   "id": "29781928-35f9-43f1-b15c-bd343e45a632",
   "metadata": {},
   "source": [
    "## Moving Files\n",
    "You can use the built-in shutil module to to move files to different locations."
   ]
  },
  {
   "cell_type": "code",
   "execution_count": 27,
   "id": "5cb4d7af-b074-4c23-831e-44dbed2e3873",
   "metadata": {},
   "outputs": [],
   "source": [
    "import shutil"
   ]
  },
  {
   "cell_type": "code",
   "execution_count": 29,
   "id": "2991c845-d1f5-4483-834f-f726ad9ec5d5",
   "metadata": {},
   "outputs": [
    {
     "data": {
      "text/plain": [
       "'/Users/maahinnafi/Desktop/practice.txt'"
      ]
     },
     "execution_count": 29,
     "metadata": {},
     "output_type": "execute_result"
    }
   ],
   "source": [
    "shutil.move('practice.txt','/Users/maahinnafi/Desktop')"
   ]
  },
  {
   "cell_type": "markdown",
   "id": "385562ea-9dd7-4b50-aa61-205598262b6f",
   "metadata": {},
   "source": [
    "Note that os.listdir() is pointing to the current working directory"
   ]
  },
  {
   "cell_type": "code",
   "execution_count": 34,
   "id": "e06fb387-a417-44fe-87d2-45ffad246a79",
   "metadata": {},
   "outputs": [
    {
     "data": {
      "text/plain": [
       "['02 - Opening and Reading Files Folders.ipynb',\n",
       " '01 - Collections Module.ipynb',\n",
       " '.ipynb_checkpoints']"
      ]
     },
     "execution_count": 34,
     "metadata": {},
     "output_type": "execute_result"
    }
   ],
   "source": [
    "os.listdir()"
   ]
  },
  {
   "cell_type": "markdown",
   "id": "10253400-5141-4637-88e4-4ebd801cf2b2",
   "metadata": {},
   "source": [
    "To tap into the desktop which is where we moved the txt file to you have to change the working directory."
   ]
  },
  {
   "cell_type": "code",
   "execution_count": 36,
   "id": "565d6f10-f557-46af-8f05-58d26319ead3",
   "metadata": {},
   "outputs": [],
   "source": [
    "os.chdir('/Users/maahinnafi/Desktop')"
   ]
  },
  {
   "cell_type": "code",
   "execution_count": 38,
   "id": "dc7e8fa6-14fe-417b-8c44-66904b90cb3b",
   "metadata": {},
   "outputs": [
    {
     "data": {
      "text/plain": [
       "['WebDev Projects',\n",
       " '.DS_Store',\n",
       " 'Camcorder Footage',\n",
       " '.localized',\n",
       " 'Python Projects',\n",
       " 'practice.txt',\n",
       " 'Full Python Guide',\n",
       " 'Playground.ipynb',\n",
       " 'Data Structures and Algorithms',\n",
       " 'Developer Guides',\n",
       " '.ipynb_checkpoints',\n",
       " 'Visual Studio Code']"
      ]
     },
     "execution_count": 38,
     "metadata": {},
     "output_type": "execute_result"
    }
   ],
   "source": [
    "os.listdir()"
   ]
  },
  {
   "cell_type": "markdown",
   "id": "8adf9b2a-7fee-474d-b2d2-2d749820bee9",
   "metadata": {},
   "source": [
    "## Deleting Files\n",
    "<hr></hr>\n",
    "<strong>NOTE: The os module provides 3 methods for deleting files:</strong>\n",
    "\n",
    "* os.unlink(path) which deletes a file at the path your provide\n",
    "* os.rmdir(path) which deletes a folder (folder must be empty) at the path your provide\n",
    "* shutil.rmtree(path) this is the most dangerous, as it will remove all files and folders contained in the path. <strong>All of these methods can not be reversed! Which means if you make a mistake you won't be able to recover the file. Instead we will use the send2trash module. A safer alternative that sends deleted files to the trash bin instead of permanent removal.</strong>"
   ]
  },
  {
   "cell_type": "code",
   "execution_count": 42,
   "id": "77590550-4182-4853-a69a-9a4a0ccb4703",
   "metadata": {},
   "outputs": [],
   "source": [
    "import send2trash"
   ]
  },
  {
   "cell_type": "code",
   "execution_count": 44,
   "id": "21374b41-fd0b-4e3c-b918-32d1823d5849",
   "metadata": {},
   "outputs": [
    {
     "data": {
      "text/plain": [
       "['WebDev Projects',\n",
       " '.DS_Store',\n",
       " 'Camcorder Footage',\n",
       " '.localized',\n",
       " 'Python Projects',\n",
       " 'practice.txt',\n",
       " 'Full Python Guide',\n",
       " 'Playground.ipynb',\n",
       " 'Data Structures and Algorithms',\n",
       " 'Developer Guides',\n",
       " '.ipynb_checkpoints',\n",
       " 'Visual Studio Code']"
      ]
     },
     "execution_count": 44,
     "metadata": {},
     "output_type": "execute_result"
    }
   ],
   "source": [
    "os.listdir()"
   ]
  },
  {
   "cell_type": "code",
   "execution_count": 46,
   "id": "0df757f2-b924-4bcd-a368-e7d4dd785bff",
   "metadata": {},
   "outputs": [],
   "source": [
    "send2trash.send2trash('practice.txt')"
   ]
  },
  {
   "cell_type": "code",
   "execution_count": 48,
   "id": "f344a212-e536-42f2-a9b7-b5378cb0549a",
   "metadata": {},
   "outputs": [
    {
     "data": {
      "text/plain": [
       "['WebDev Projects',\n",
       " '.DS_Store',\n",
       " 'Camcorder Footage',\n",
       " '.localized',\n",
       " 'Python Projects',\n",
       " 'Full Python Guide',\n",
       " 'Playground.ipynb',\n",
       " 'Data Structures and Algorithms',\n",
       " 'Developer Guides',\n",
       " '.ipynb_checkpoints',\n",
       " 'Visual Studio Code']"
      ]
     },
     "execution_count": 48,
     "metadata": {},
     "output_type": "execute_result"
    }
   ],
   "source": [
    "os.listdir()"
   ]
  },
  {
   "cell_type": "markdown",
   "id": "5b84bd66-b176-47e2-a35e-069cf3671737",
   "metadata": {},
   "source": [
    "## Walking through a directory\n",
    "Often you will just need to \"walk\" through a directory, that is visit every file or folder and check to see if a file is in the directory, and then perhaps do something with that file. Usually recursively walking through every file and folder in a directory would be quite tricky to program, but luckily the os module has a direct method call for this called os.walk()."
   ]
  },
  {
   "cell_type": "code",
   "execution_count": 65,
   "id": "d4967e4c-df00-41bf-8163-618dee8f42ed",
   "metadata": {},
   "outputs": [],
   "source": [
    "os.chdir(\"/Users/maahinnafi/Desktop/Full Python Guide\")"
   ]
  },
  {
   "cell_type": "code",
   "execution_count": 67,
   "id": "182f7bd3-5c37-48e1-9996-4751a279d1b0",
   "metadata": {},
   "outputs": [
    {
     "data": {
      "text/plain": [
       "'/Users/maahinnafi/Desktop/Full Python Guide'"
      ]
     },
     "execution_count": 67,
     "metadata": {},
     "output_type": "execute_result"
    }
   ],
   "source": [
    "os.getcwd()"
   ]
  },
  {
   "cell_type": "code",
   "execution_count": 69,
   "id": "e6255a58-ef8c-44ab-af77-d45143a186da",
   "metadata": {},
   "outputs": [
    {
     "data": {
      "text/plain": [
       "['Example Top Level',\n",
       " '.DS_Store',\n",
       " '07 - Python Decorators',\n",
       " 'BlackJack OOP Project.ipynb',\n",
       " '09 - Advanced Python Modules',\n",
       " 'Milestone Project 1.ipynb',\n",
       " '00 - Python Objects and Data Structures Basic',\n",
       " '06 - Errors and Exception Handling',\n",
       " '02 - Python Statements',\n",
       " '08 - Python Generators',\n",
       " '.ipynb_checkpoints',\n",
       " '05 - Modules and Packages',\n",
       " '01 - Python Comparison Operators',\n",
       " '03 - Methods and Functions',\n",
       " '04 - Object Oriented Programming']"
      ]
     },
     "execution_count": 69,
     "metadata": {},
     "output_type": "execute_result"
    }
   ],
   "source": [
    "os.listdir()"
   ]
  },
  {
   "cell_type": "code",
   "execution_count": 71,
   "id": "9195511b-1079-458f-8ad8-a9facea0b8ad",
   "metadata": {},
   "outputs": [
    {
     "name": "stdout",
     "output_type": "stream",
     "text": [
      "Currently looking at folder: Example Top Level\n",
      "\n",
      "\n",
      "THE SUBFOLDERS ARE: \n",
      "\t Subfolder: Mid Example One\n",
      "\t Subfolder: .ipynb_checkpoints\n",
      "\n",
      "\n",
      "THE FILES ARE: \n",
      "\t File: .DS_Store\n",
      "\t File: Mid Example.txt\n",
      "\n",
      "\n",
      "Currently looking at folder: Example Top Level/Mid Example One\n",
      "\n",
      "\n",
      "THE SUBFOLDERS ARE: \n",
      "\t Subfolder: Bottom Level Two\n",
      "\t Subfolder: Bottom Level One\n",
      "\t Subfolder: .ipynb_checkpoints\n",
      "\n",
      "\n",
      "THE FILES ARE: \n",
      "\t File: Mid Level Doc.txt\n",
      "\n",
      "\n",
      "Currently looking at folder: Example Top Level/Mid Example One/Bottom Level Two\n",
      "\n",
      "\n",
      "THE SUBFOLDERS ARE: \n",
      "\t Subfolder: .ipynb_checkpoints\n",
      "\n",
      "\n",
      "THE FILES ARE: \n",
      "\t File: Bottom Text Two.txt\n",
      "\n",
      "\n",
      "Currently looking at folder: Example Top Level/Mid Example One/Bottom Level Two/.ipynb_checkpoints\n",
      "\n",
      "\n",
      "THE SUBFOLDERS ARE: \n",
      "\n",
      "\n",
      "THE FILES ARE: \n",
      "\n",
      "\n",
      "Currently looking at folder: Example Top Level/Mid Example One/Bottom Level One\n",
      "\n",
      "\n",
      "THE SUBFOLDERS ARE: \n",
      "\t Subfolder: .ipynb_checkpoints\n",
      "\n",
      "\n",
      "THE FILES ARE: \n",
      "\t File: One Text.txt\n",
      "\n",
      "\n",
      "Currently looking at folder: Example Top Level/Mid Example One/Bottom Level One/.ipynb_checkpoints\n",
      "\n",
      "\n",
      "THE SUBFOLDERS ARE: \n",
      "\n",
      "\n",
      "THE FILES ARE: \n",
      "\n",
      "\n",
      "Currently looking at folder: Example Top Level/Mid Example One/.ipynb_checkpoints\n",
      "\n",
      "\n",
      "THE SUBFOLDERS ARE: \n",
      "\n",
      "\n",
      "THE FILES ARE: \n",
      "\n",
      "\n",
      "Currently looking at folder: Example Top Level/.ipynb_checkpoints\n",
      "\n",
      "\n",
      "THE SUBFOLDERS ARE: \n",
      "\n",
      "\n",
      "THE FILES ARE: \n",
      "\n",
      "\n"
     ]
    }
   ],
   "source": [
    "for folder , sub_folders , files in os.walk(\"Example Top Level\"):\n",
    "    \n",
    "    print(\"Currently looking at folder: \" + folder) \n",
    "    print('\\n')\n",
    "    print(\"THE SUBFOLDERS ARE: \")\n",
    "    for sub_fold in sub_folders:\n",
    "        print(\"\\t Subfolder: \" + sub_fold )\n",
    "    \n",
    "    print('\\n')\n",
    "    \n",
    "    print(\"THE FILES ARE: \")\n",
    "    for f in files:\n",
    "        print(\"\\t File: \" + f)\n",
    "    print('\\n')"
   ]
  }
 ],
 "metadata": {
  "kernelspec": {
   "display_name": "Python 3 (ipykernel)",
   "language": "python",
   "name": "python3"
  },
  "language_info": {
   "codemirror_mode": {
    "name": "ipython",
    "version": 3
   },
   "file_extension": ".py",
   "mimetype": "text/x-python",
   "name": "python",
   "nbconvert_exporter": "python",
   "pygments_lexer": "ipython3",
   "version": "3.11.7"
  }
 },
 "nbformat": 4,
 "nbformat_minor": 5
}

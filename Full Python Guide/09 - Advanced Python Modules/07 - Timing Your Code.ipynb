{
 "cells": [
  {
   "cell_type": "markdown",
   "id": "d29295ee-cd44-44f3-bc7c-87c3a6ea1420",
   "metadata": {},
   "source": [
    "# Timing your code\n",
    "Sometimes it's important to know how long your code is taking to run, or at least know if a particular line of code is slowing down your entire project. Python has a built-in timing module to do this."
   ]
  },
  {
   "cell_type": "markdown",
   "id": "a2d82d31-1e80-4e02-9e2d-a14884a15fd0",
   "metadata": {},
   "source": [
    "Example Function or Script\n",
    "Here we have two functions that do the same thing, but in different ways. How can we tell which one is more efficient? Let's time it!"
   ]
  },
  {
   "cell_type": "code",
   "execution_count": 3,
   "id": "a5875e07-3fff-4469-92e4-9866eda913f1",
   "metadata": {},
   "outputs": [],
   "source": [
    "def func_one(n):\n",
    "    '''\n",
    "    Given a number n, returns a list of string integers\n",
    "    ['0','1','2',...'n]\n",
    "    '''\n",
    "    return [str(num) for num in range(n)]"
   ]
  },
  {
   "cell_type": "code",
   "execution_count": 5,
   "id": "b068158a-5694-43fd-8682-0f078f923489",
   "metadata": {},
   "outputs": [
    {
     "data": {
      "text/plain": [
       "['0', '1', '2', '3', '4', '5', '6', '7', '8', '9']"
      ]
     },
     "execution_count": 5,
     "metadata": {},
     "output_type": "execute_result"
    }
   ],
   "source": [
    "func_one(10)"
   ]
  },
  {
   "cell_type": "code",
   "execution_count": 7,
   "id": "7e1782f0-f713-430c-bd78-57ffa357bbe6",
   "metadata": {},
   "outputs": [],
   "source": [
    "def func_two(n):\n",
    "    '''\n",
    "    Given a number n, returns a list of string integers\n",
    "    ['0','1','2',...'n]\n",
    "    '''\n",
    "    return list(map(str,range(n)))"
   ]
  },
  {
   "cell_type": "code",
   "execution_count": 9,
   "id": "06518b71-4f89-4da0-9fd1-917c96c36485",
   "metadata": {},
   "outputs": [
    {
     "data": {
      "text/plain": [
       "['0', '1', '2', '3', '4', '5', '6', '7', '8', '9']"
      ]
     },
     "execution_count": 9,
     "metadata": {},
     "output_type": "execute_result"
    }
   ],
   "source": [
    "func_two(10)"
   ]
  },
  {
   "cell_type": "markdown",
   "id": "1b60e36b-2230-438d-af09-cb3c1cda302f",
   "metadata": {},
   "source": [
    "## Timing Start and Stop\n",
    "We can try using the time module to simply calculate the elapsed time for the code. Keep in mind, due to the time module's precision, the code needs to take at least 0.1 seconds to complete."
   ]
  },
  {
   "cell_type": "code",
   "execution_count": 12,
   "id": "9d644700-af26-4aa1-991a-9c901f64a95f",
   "metadata": {},
   "outputs": [],
   "source": [
    "import time"
   ]
  },
  {
   "cell_type": "code",
   "execution_count": 16,
   "id": "75dfb932-3fac-4888-922e-5fd03d331425",
   "metadata": {},
   "outputs": [],
   "source": [
    "# STEP 1: Get start time\n",
    "start_time = time.time()\n",
    "# Step 2: Run your code you want to time\n",
    "result = func_one(1000000)\n",
    "# Step 3: Calculate total time elapsed\n",
    "end_time = time.time() - start_time"
   ]
  },
  {
   "cell_type": "code",
   "execution_count": 18,
   "id": "3e91feaa-88fd-41e4-b23a-26e4b18ac0ab",
   "metadata": {},
   "outputs": [
    {
     "data": {
      "text/plain": [
       "0.113372802734375"
      ]
     },
     "execution_count": 18,
     "metadata": {},
     "output_type": "execute_result"
    }
   ],
   "source": [
    "end_time"
   ]
  },
  {
   "cell_type": "code",
   "execution_count": 20,
   "id": "8ee4bdbd-9cf7-48fc-a9c6-45a98439d172",
   "metadata": {},
   "outputs": [],
   "source": [
    "# STEP 1: Get start time\n",
    "start_time = time.time()\n",
    "# Step 2: Run your code you want to time\n",
    "result = func_two(1000000)\n",
    "# Step 3: Calculate total time elapsed\n",
    "end_time = time.time() - start_time"
   ]
  },
  {
   "cell_type": "code",
   "execution_count": 22,
   "id": "4d10b2f0-ca9c-4650-9281-36caba5c10d2",
   "metadata": {},
   "outputs": [
    {
     "data": {
      "text/plain": [
       "0.10683608055114746"
      ]
     },
     "execution_count": 22,
     "metadata": {},
     "output_type": "execute_result"
    }
   ],
   "source": [
    "end_time"
   ]
  },
  {
   "cell_type": "markdown",
   "id": "d82bc154-09f9-4fa6-9908-7aff5c13978b",
   "metadata": {},
   "source": [
    "## Timeit Module\n",
    "What if we have two blocks of code that are quite fast, the difference from the time.time() method may not be enough to tell which is fater. In this case, we can use the timeit module.\n",
    "\n",
    "The timeit module takes in two strings, a statement (stmt) and a setup. It then runs the setup code and runs the stmt code some n number of times and reports back average length of time it took."
   ]
  },
  {
   "cell_type": "code",
   "execution_count": 25,
   "id": "56f6247b-6876-41cf-8220-b35bd476c784",
   "metadata": {},
   "outputs": [],
   "source": [
    "import timeit"
   ]
  },
  {
   "cell_type": "markdown",
   "id": "5ac04cc8-ae9a-48c6-a4d4-dcd804507dfe",
   "metadata": {},
   "source": [
    "The setup (anything that needs to be defined beforehand, such as def functions.)"
   ]
  },
  {
   "cell_type": "code",
   "execution_count": 30,
   "id": "c7f7efb3-a130-4842-aa7d-9927feaea790",
   "metadata": {},
   "outputs": [],
   "source": [
    "setup = '''\n",
    "def func_one(n):\n",
    "    return [str(num) for num in range(n)]\n",
    "'''"
   ]
  },
  {
   "cell_type": "code",
   "execution_count": 32,
   "id": "304f436c-56df-4a37-99ac-75da5a33c2f6",
   "metadata": {},
   "outputs": [],
   "source": [
    "stmt = 'func_one(100)'"
   ]
  },
  {
   "cell_type": "code",
   "execution_count": 34,
   "id": "b3c1a8a8-d511-4fae-ab54-e22caf402c9a",
   "metadata": {},
   "outputs": [
    {
     "data": {
      "text/plain": [
       "0.6672805420002987"
      ]
     },
     "execution_count": 34,
     "metadata": {},
     "output_type": "execute_result"
    }
   ],
   "source": [
    "timeit.timeit(stmt,setup,number=100000)"
   ]
  },
  {
   "cell_type": "markdown",
   "id": "9bb41020-e397-4e41-a743-0557e39e5e94",
   "metadata": {},
   "source": [
    "Now let try running func_two 10,000 times and compare the length of time it took."
   ]
  },
  {
   "cell_type": "code",
   "execution_count": 37,
   "id": "7b48b490-c749-4c23-b008-eedee9674d29",
   "metadata": {},
   "outputs": [],
   "source": [
    "setup2 = '''\n",
    "def func_two(n):\n",
    "    return list(map(str,range(n)))\n",
    "'''"
   ]
  },
  {
   "cell_type": "code",
   "execution_count": 39,
   "id": "08e69632-4a19-48f8-900b-fd04e33db3fa",
   "metadata": {},
   "outputs": [],
   "source": [
    "stmt2 = 'func_two(100)'"
   ]
  },
  {
   "cell_type": "code",
   "execution_count": 41,
   "id": "4783c10e-0930-4328-b449-26f1c214698e",
   "metadata": {},
   "outputs": [
    {
     "data": {
      "text/plain": [
       "0.5631274999996094"
      ]
     },
     "execution_count": 41,
     "metadata": {},
     "output_type": "execute_result"
    }
   ],
   "source": [
    "timeit.timeit(stmt2,setup2,number=100000)"
   ]
  },
  {
   "cell_type": "markdown",
   "id": "b418448e-ccf5-4f30-a366-532f3f75c22b",
   "metadata": {},
   "source": [
    "It looks like func_two is more efficient. You can specify more number of runs if you want to clarify the different for fast performing functions."
   ]
  },
  {
   "cell_type": "code",
   "execution_count": 46,
   "id": "c5eae44a-bfd2-4bfc-b26b-7d6a19a3e49c",
   "metadata": {},
   "outputs": [
    {
     "data": {
      "text/plain": [
       "5.887463791999835"
      ]
     },
     "execution_count": 46,
     "metadata": {},
     "output_type": "execute_result"
    }
   ],
   "source": [
    "timeit.timeit(stmt,setup,number=1000000)"
   ]
  },
  {
   "cell_type": "code",
   "execution_count": 48,
   "id": "1423d837-3847-447a-be0b-aa70c074d14b",
   "metadata": {},
   "outputs": [
    {
     "data": {
      "text/plain": [
       "5.432146957999066"
      ]
     },
     "execution_count": 48,
     "metadata": {},
     "output_type": "execute_result"
    }
   ],
   "source": [
    "timeit.timeit(stmt2,setup2,number=1000000)"
   ]
  },
  {
   "cell_type": "markdown",
   "id": "359c004a-3f78-4ed6-b540-22406c4d5d01",
   "metadata": {},
   "source": [
    "## Timing you code with Jupyter \"magic\" method\n",
    "NOTE: This method is ONLY available in Jupyter and the magic command needs to be at the top of the cell with nothing above it (not even commented code)"
   ]
  },
  {
   "cell_type": "code",
   "execution_count": 51,
   "id": "20e00a2f-39ec-4cb8-a7a4-1c772e6b9266",
   "metadata": {},
   "outputs": [
    {
     "name": "stdout",
     "output_type": "stream",
     "text": [
      "5.94 µs ± 53.1 ns per loop (mean ± std. dev. of 7 runs, 100,000 loops each)\n"
     ]
    }
   ],
   "source": [
    "%%timeit\n",
    "func_one(100)"
   ]
  },
  {
   "cell_type": "code",
   "execution_count": 53,
   "id": "cf170445-ee9d-4f69-a5dd-936cfd7c0a02",
   "metadata": {},
   "outputs": [
    {
     "name": "stdout",
     "output_type": "stream",
     "text": [
      "5.5 µs ± 25.9 ns per loop (mean ± std. dev. of 7 runs, 100,000 loops each)\n"
     ]
    }
   ],
   "source": [
    "%%timeit\n",
    "func_two(100)"
   ]
  }
 ],
 "metadata": {
  "kernelspec": {
   "display_name": "Python 3 (ipykernel)",
   "language": "python",
   "name": "python3"
  },
  "language_info": {
   "codemirror_mode": {
    "name": "ipython",
    "version": 3
   },
   "file_extension": ".py",
   "mimetype": "text/x-python",
   "name": "python",
   "nbconvert_exporter": "python",
   "pygments_lexer": "ipython3",
   "version": "3.11.7"
  }
 },
 "nbformat": 4,
 "nbformat_minor": 5
}

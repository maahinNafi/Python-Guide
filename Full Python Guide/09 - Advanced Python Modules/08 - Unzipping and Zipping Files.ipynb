{
 "cells": [
  {
   "cell_type": "markdown",
   "id": "8fbd56f9-6645-434f-ae88-1624eb1e3240",
   "metadata": {},
   "source": [
    "# Unzipping and Zipping Files"
   ]
  },
  {
   "cell_type": "markdown",
   "id": "91de71bb-2fd6-4694-af54-9da2b0624fd2",
   "metadata": {},
   "source": [
    "## Create Files to Compress"
   ]
  },
  {
   "cell_type": "code",
   "execution_count": 3,
   "id": "31648ffd-fb19-4410-9352-4667fb8fc927",
   "metadata": {},
   "outputs": [],
   "source": [
    "# slashes may need to change for MacOS or Linux\n",
    "f = open(\"new_file.txt\",'w+')\n",
    "f.write(\"Here is some text\")\n",
    "f.close()"
   ]
  },
  {
   "cell_type": "code",
   "execution_count": 5,
   "id": "9b2810be-b721-4264-9dcb-9804175e32ec",
   "metadata": {},
   "outputs": [],
   "source": [
    "# slashes may need to change for MacOS or Linux\n",
    "f = open(\"new_file2.txt\",'w+')\n",
    "f.write(\"Here is some text\")\n",
    "f.close()"
   ]
  },
  {
   "cell_type": "markdown",
   "id": "9e373c7d-1e9b-4408-bdfc-008a86df7827",
   "metadata": {},
   "source": [
    "## Zipping Files"
   ]
  },
  {
   "cell_type": "markdown",
   "id": "01303d53-7eb5-43ae-8c3c-131c8a343faa",
   "metadata": {},
   "source": [
    "The zipfile library is built in to Python, we can use it to compress folders or files. To compress all files in a folder, just use the os.walk() method to iterate this process for all the files in a directory."
   ]
  },
  {
   "cell_type": "code",
   "execution_count": 9,
   "id": "e4cbd94c-bd64-4f11-978a-414278405317",
   "metadata": {},
   "outputs": [],
   "source": [
    "import zipfile"
   ]
  },
  {
   "cell_type": "markdown",
   "id": "8842202b-b9dd-4d07-8006-6bb4a57bd55e",
   "metadata": {},
   "source": [
    "Create Zip file first , then write to it (the write step compresses the files.)"
   ]
  },
  {
   "cell_type": "code",
   "execution_count": 12,
   "id": "2c55d717-88db-4fc4-9e0c-dc37d1a04fd4",
   "metadata": {},
   "outputs": [],
   "source": [
    "comp_file = zipfile.ZipFile('comp_file.zip','w')"
   ]
  },
  {
   "cell_type": "code",
   "execution_count": 14,
   "id": "a7a57830-0958-4237-849a-91e292b39b8f",
   "metadata": {},
   "outputs": [],
   "source": [
    "comp_file.write(\"new_file.txt\",compress_type=zipfile.ZIP_DEFLATED)"
   ]
  },
  {
   "cell_type": "code",
   "execution_count": 16,
   "id": "d924b4d7-5a05-41eb-9e19-8d1cee1ff967",
   "metadata": {},
   "outputs": [],
   "source": [
    "comp_file.write('new_file2.txt',compress_type=zipfile.ZIP_DEFLATED)"
   ]
  },
  {
   "cell_type": "code",
   "execution_count": 18,
   "id": "cfb1711e-440b-4d03-b314-31b2dea96e87",
   "metadata": {},
   "outputs": [],
   "source": [
    "comp_file.close()"
   ]
  },
  {
   "cell_type": "markdown",
   "id": "1895eb86-c25a-4f28-8eda-16ac1a5ad04d",
   "metadata": {},
   "source": [
    "## Extracting from Zip Files\n",
    "We can easily extract files with either the extractall() method to get all the files, or just using the extract() method to only grab individual files."
   ]
  },
  {
   "cell_type": "code",
   "execution_count": 21,
   "id": "1f5ca26d-1fd5-4e48-8181-7744b76b81c2",
   "metadata": {},
   "outputs": [],
   "source": [
    "zip_obj = zipfile.ZipFile('comp_file.zip','r')"
   ]
  },
  {
   "cell_type": "code",
   "execution_count": 23,
   "id": "485b6c59-d73e-494a-a726-d9718c91935c",
   "metadata": {},
   "outputs": [],
   "source": [
    "zip_obj.extractall(\"extracted_content\")"
   ]
  },
  {
   "cell_type": "markdown",
   "id": "109aab08-e610-4c99-a62d-e9276b83c6bb",
   "metadata": {},
   "source": [
    "## Using shutil library\n",
    "Often you don't want to extract or archive individual files from a .zip, but instead archive everything at once. The shutil library that is built in to python has easy to use commands for this:"
   ]
  },
  {
   "cell_type": "code",
   "execution_count": 26,
   "id": "0423606b-9d44-46bf-a608-4884dfd81cb9",
   "metadata": {},
   "outputs": [],
   "source": [
    "import shutil"
   ]
  },
  {
   "cell_type": "markdown",
   "id": "c649bef0-3723-4016-9ffe-2ac59ff4d47e",
   "metadata": {},
   "source": [
    "The shutil library can accept a format parameter, format is the archive format: one of \"zip\", \"tar\", \"gztar\", \"bztar\", or \"xztar\"."
   ]
  },
  {
   "cell_type": "code",
   "execution_count": 29,
   "id": "2f6b0c6c-d4ed-4639-b9a0-6f64402495e3",
   "metadata": {},
   "outputs": [
    {
     "data": {
      "text/plain": [
       "'/Users/maahinnafi/Desktop/Full Python Guide/09 - Advanced Python Modules'"
      ]
     },
     "execution_count": 29,
     "metadata": {},
     "output_type": "execute_result"
    }
   ],
   "source": [
    "pwd"
   ]
  },
  {
   "cell_type": "code",
   "execution_count": 35,
   "id": "bdbc93aa-5314-4dc3-adb0-69ab4ad4b54c",
   "metadata": {},
   "outputs": [],
   "source": [
    "dir_to_zip = '/Users/maahinnafi/Desktop/Full Python Guide/09 - Advanced Python Modules/extracted_content'"
   ]
  },
  {
   "cell_type": "code",
   "execution_count": 41,
   "id": "bd1a6123-f5b0-41b6-a59f-83374fc5ada6",
   "metadata": {},
   "outputs": [
    {
     "data": {
      "text/plain": [
       "'/Users/maahinnafi/Desktop/Full Python Guide/09 - Advanced Python Modules/example.zip'"
      ]
     },
     "execution_count": 41,
     "metadata": {},
     "output_type": "execute_result"
    }
   ],
   "source": [
    "# Creating a zip archive\n",
    "output_filename = 'example'\n",
    "# Just fill in the output_filename and the directory to zip\n",
    "# Note this won't run as is because the variable are undefined\n",
    "shutil.make_archive(output_filename,'zip',dir_to_zip)"
   ]
  }
 ],
 "metadata": {
  "kernelspec": {
   "display_name": "Python 3 (ipykernel)",
   "language": "python",
   "name": "python3"
  },
  "language_info": {
   "codemirror_mode": {
    "name": "ipython",
    "version": 3
   },
   "file_extension": ".py",
   "mimetype": "text/x-python",
   "name": "python",
   "nbconvert_exporter": "python",
   "pygments_lexer": "ipython3",
   "version": "3.11.7"
  }
 },
 "nbformat": 4,
 "nbformat_minor": 5
}
